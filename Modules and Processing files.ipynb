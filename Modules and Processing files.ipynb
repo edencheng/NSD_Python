{
 "cells": [
  {
   "cell_type": "code",
   "execution_count": 1,
   "metadata": {},
   "outputs": [
    {
     "name": "stdout",
     "output_type": "stream",
     "text": [
      "__doc__,__loader__,__name__,__package__,__spec__,acos,acosh,asin,asinh,atan,atan2,atanh,ceil,comb,copysign,cos,cosh,degrees,dist,e,erf,erfc,exp,expm1,fabs,factorial,floor,fmod,frexp,fsum,gamma,gcd,hypot,inf,isclose,isfinite,isinf,isnan,isqrt,ldexp,lgamma,log,log10,log1p,log2,modf,nan,perm,pi,pow,prod,radians,remainder,sin,sinh,sqrt,tan,tanh,tau,trunc,"
     ]
    }
   ],
   "source": [
    "import math\n",
    "for name in dir(math):\n",
    "    print(name, end=\",\")\n"
   ]
  },
  {
   "cell_type": "code",
   "execution_count": 2,
   "metadata": {},
   "outputs": [
    {
     "name": "stdout",
     "output_type": "stream",
     "text": [
      "3.141592653589793\n",
      "1.0\n",
      "1.0\n"
     ]
    }
   ],
   "source": [
    "import math\n",
    "\n",
    "print(math.pi)\n",
    "print(math.sin(math.pi/2))\n",
    "print(math.sin(math.radians(90)))\n"
   ]
  },
  {
   "cell_type": "code",
   "execution_count": 3,
   "metadata": {},
   "outputs": [
    {
     "name": "stdout",
     "output_type": "stream",
     "text": [
      "0.99999999\n",
      "1.0\n"
     ]
    }
   ],
   "source": [
    "import math\n",
    "\n",
    "def sin(x):\n",
    "    if 2 * x == pi:\n",
    "        return 0.99999999\n",
    "    else:\n",
    "        return None\n",
    "\n",
    "pi = 3.1416\n",
    "\n",
    "print(sin(pi/2))\n",
    "print(math.sin(math.pi/2))"
   ]
  },
  {
   "cell_type": "code",
   "execution_count": null,
   "metadata": {},
   "outputs": [],
   "source": [
    "from math import sin, pi, radians\n",
    "\n",
    "print(sin(radians(90)))"
   ]
  },
  {
   "cell_type": "code",
   "execution_count": null,
   "metadata": {},
   "outputs": [],
   "source": [
    "from math import sin, pi\n",
    "print(sin(pi/2))\n",
    "\n",
    "pi = 3.14\n",
    "\n",
    "def sin(x):\n",
    "    if 2 * x == pi:\n",
    "        return 0.99999999\n",
    "    else:\n",
    "        return None\n",
    "\n",
    "print(sin(pi/2))"
   ]
  },
  {
   "cell_type": "code",
   "execution_count": null,
   "metadata": {},
   "outputs": [],
   "source": [
    "pi = 3.14\t# line 01\n",
    "\n",
    "def sin(x):\n",
    "    if 2 * x == pi:\n",
    "        return 0.99999999\n",
    "    else:\n",
    "        return None\t# line 07\n",
    "\n",
    "print(sin(pi/2))\t# line 09\n",
    "\n",
    "\n",
    "from math import sin, pi\t# line 12\n",
    "\n",
    "print(sin(pi/2))\t# line 14"
   ]
  },
  {
   "cell_type": "code",
   "execution_count": null,
   "metadata": {},
   "outputs": [],
   "source": [
    "# Aliasing using keyword as\n",
    "\n",
    "import math as m\n",
    "print(m.sin(m.pi/2))\n",
    "\n",
    "from math import pi as PI, sin as sine\n",
    "print(sine(PI/2))"
   ]
  },
  {
   "cell_type": "code",
   "execution_count": null,
   "metadata": {},
   "outputs": [],
   "source": [
    "# Opening and reading the file from the working directory, no need to specify the location\n",
    "\n",
    "f = open('base_config')\n",
    "contents = f.read()\n",
    "print(contents)"
   ]
  },
  {
   "cell_type": "code",
   "execution_count": 5,
   "metadata": {},
   "outputs": [
    {
     "name": "stdout",
     "output_type": "stream",
     "text": [
      "spanning-tree mode rapid-pvst\n",
      "\n",
      "clock timezone cdt -6\n",
      "ntp server 216.197.156.83\n",
      "ntp update-calendar\n",
      "\n",
      "clock timezone cdt -6\n",
      "clock summer-time DST recurring\n",
      "service timestamps debug datetime msec localtime \n",
      "service timestamps log datetime msec localtime\n",
      "\n",
      "vlan 100\n",
      " name Data\n",
      "vlan 101\n",
      " name Voice\n",
      "vlan 102\n",
      " name Test \n",
      "\n",
      "interface vlan 1\n",
      " description In-band Management\n",
      "\n",
      "ip default-gateway 192.168.0.1\n",
      "ip dhcp snooping vlan 100,101\n",
      "\n",
      "no ip dhcp snooping information option \n",
      "ip dhcp snooping\n",
      "ip arp inspection vlan 100,101\n",
      "spanning-tree portfast bpduguard default\n",
      "\n",
      "interface range GigabitEthernet 2/0 - 3\n",
      " switchport\n",
      " switchport access vlan 100\n",
      " switchport voice vlan 101\n",
      " switchport host\n",
      " switchport port-security maximum 2 \n",
      " switchport port-security\n",
      " switchport port-security aging time 2\n",
      " switchport port-security aging type inactivity \n",
      " switchport port-security violation restrict \n",
      " ip arp inspection limit rate 100\n",
      " ip dhcp snooping limit rate 100\n",
      " ip verify source\n",
      "\n"
     ]
    }
   ],
   "source": [
    "# Opening the file if it's from a different location, it needs to specify the complete path.\n",
    "\n",
    "f = open('C:\\\\Users\\\\tavare.tulloch\\\\Desktop\\\\NSDW21 - NSD170  Python Essentials for Network Automation\\\\Demo Files\\\\PythonJupyter\\\\base_config')\n",
    "#f = open('C:\\\\Users\\\\tavare.tulloch\\\\Desktop\\\\NSD Winter 2020\\\\Demo Files\\\\PythonJupyter\\\\base_config')\n",
    "contents = f.read()\n",
    "print(contents)"
   ]
  },
  {
   "cell_type": "code",
   "execution_count": 6,
   "metadata": {},
   "outputs": [
    {
     "name": "stdout",
     "output_type": "stream",
     "text": [
      "spanning-tree mode rapid-pvst\n",
      "\n",
      "\n",
      "\n",
      "clock timezone cdt -6\n",
      "\n",
      "ntp server 216.197.156.83\n",
      "\n",
      "ntp update-calendar\n",
      "\n",
      "\n",
      "\n",
      "clock timezone cdt -6\n",
      "\n",
      "clock summer-time DST recurring\n",
      "\n",
      "service timestamps debug datetime msec localtime \n",
      "\n",
      "service timestamps log datetime msec localtime\n",
      "\n",
      "\n",
      "\n",
      "vlan 100\n",
      "\n",
      " name Data\n",
      "\n",
      "vlan 101\n",
      "\n",
      " name Voice\n",
      "\n",
      "vlan 102\n",
      "\n",
      " name Test \n",
      "\n",
      "\n",
      "\n",
      "interface vlan 1\n",
      "\n",
      " description In-band Management\n",
      "\n",
      "\n",
      "\n",
      "ip default-gateway 192.168.0.1\n",
      "\n",
      "ip dhcp snooping vlan 100,101\n",
      "\n",
      "\n",
      "\n",
      "no ip dhcp snooping information option \n",
      "\n",
      "ip dhcp snooping\n",
      "\n",
      "ip arp inspection vlan 100,101\n",
      "\n",
      "spanning-tree portfast bpduguard default\n",
      "\n",
      "\n",
      "\n",
      "interface range GigabitEthernet 2/0 - 3\n",
      "\n",
      " switchport\n",
      "\n",
      " switchport access vlan 100\n",
      "\n",
      " switchport voice vlan 101\n",
      "\n",
      " switchport host\n",
      "\n",
      " switchport port-security maximum 2 \n",
      "\n",
      " switchport port-security\n",
      "\n",
      " switchport port-security aging time 2\n",
      "\n",
      " switchport port-security aging type inactivity \n",
      "\n",
      " switchport port-security violation restrict \n",
      "\n",
      " ip arp inspection limit rate 100\n",
      "\n",
      " ip dhcp snooping limit rate 100\n",
      "\n",
      " ip verify source\n",
      "\n"
     ]
    }
   ],
   "source": [
    "# Note: When printed, each line will be followed by two newline characters \n",
    "# because readlines() does not strip the newline character when splitting the \n",
    "# contents into a list. One from the two newline characters comes by default \n",
    "# at the end of each call to print().\n",
    "\n",
    "\n",
    "f = open('base_config')\n",
    "file_as_list = f.readlines()\n",
    "for line in file_as_list:\n",
    "  print(line)"
   ]
  },
  {
   "cell_type": "code",
   "execution_count": 7,
   "metadata": {},
   "outputs": [
    {
     "name": "stdout",
     "output_type": "stream",
     "text": [
      "spanning-tree mode rapid-pvst\n",
      "\n",
      "clock timezone cdt -6\n",
      "ntp server 216.197.156.83\n",
      "ntp update-calendar\n",
      "\n",
      "clock timezone cdt -6\n",
      "clock summer-time DST recurring\n",
      "service timestamps debug datetime msec localtime \n",
      "service timestamps log datetime msec localtime\n",
      "\n",
      "vlan 100\n",
      " name Data\n",
      "vlan 101\n",
      " name Voice\n",
      "vlan 102\n",
      " name Test \n",
      "\n",
      "interface vlan 1\n",
      " description In-band Management\n",
      "\n",
      "ip default-gateway 192.168.0.1\n",
      "ip dhcp snooping vlan 100,101\n",
      "\n",
      "no ip dhcp snooping information option \n",
      "ip dhcp snooping\n",
      "ip arp inspection vlan 100,101\n",
      "spanning-tree portfast bpduguard default\n",
      "\n",
      "interface range GigabitEthernet 2/0 - 3\n",
      " switchport\n",
      " switchport access vlan 100\n",
      " switchport voice vlan 101\n",
      " switchport host\n",
      " switchport port-security maximum 2 \n",
      " switchport port-security\n",
      " switchport port-security aging time 2\n",
      " switchport port-security aging type inactivity \n",
      " switchport port-security violation restrict \n",
      " ip arp inspection limit rate 100\n",
      " ip dhcp snooping limit rate 100\n",
      " ip verify source\n"
     ]
    }
   ],
   "source": [
    "# One solution to remove the newline is to pass an empty string\n",
    "\n",
    "f = open('base_config')\n",
    "file_as_list = f.readlines()\n",
    "for line in file_as_list:\n",
    "  print(line, end=\"\")"
   ]
  },
  {
   "cell_type": "code",
   "execution_count": 8,
   "metadata": {},
   "outputs": [
    {
     "name": "stdout",
     "output_type": "stream",
     "text": [
      "spanning-tree mode rapid-pvst\n",
      "\n",
      "clock timezone cdt -6\n",
      "ntp server 216.197.156.83\n",
      "ntp update-calendar\n",
      "\n",
      "clock timezone cdt -6\n",
      "clock summer-time DST recurring\n",
      "service timestamps debug datetime msec localtime \n",
      "service timestamps log datetime msec localtime\n",
      "\n",
      "vlan 100\n",
      " name Data\n",
      "vlan 101\n",
      " name Voice\n",
      "vlan 102\n",
      " name Test \n",
      "\n",
      "interface vlan 1\n",
      " description In-band Management\n",
      "\n",
      "ip default-gateway 192.168.0.1\n",
      "ip dhcp snooping vlan 100,101\n",
      "\n",
      "no ip dhcp snooping information option \n",
      "ip dhcp snooping\n",
      "ip arp inspection vlan 100,101\n",
      "spanning-tree portfast bpduguard default\n",
      "\n",
      "interface range GigabitEthernet 2/0 - 3\n",
      " switchport\n",
      " switchport access vlan 100\n",
      " switchport voice vlan 101\n",
      " switchport host\n",
      " switchport port-security maximum 2 \n",
      " switchport port-security\n",
      " switchport port-security aging time 2\n",
      " switchport port-security aging type inactivity \n",
      " switchport port-security violation restrict \n",
      " ip arp inspection limit rate 100\n",
      " ip dhcp snooping limit rate 100\n",
      " ip verify source\n"
     ]
    }
   ],
   "source": [
    "#Another solution is use read() combined with splilines() instead of readlines()\n",
    "\n",
    "f = open('base_config')\n",
    "contents = f.read()\n",
    "file_as_list = contents.splitlines()\n",
    "for line in file_as_list:\n",
    "  print(line)\n",
    "f.close()"
   ]
  },
  {
   "cell_type": "code",
   "execution_count": null,
   "metadata": {},
   "outputs": [],
   "source": [
    "#Another solution is use strip()\n",
    "\n",
    "f = open('base_config')\n",
    "for item in f:\n",
    "    item = item.strip()\n",
    "    print(item)\n",
    "f.close()"
   ]
  },
  {
   "cell_type": "code",
   "execution_count": 9,
   "metadata": {},
   "outputs": [
    {
     "name": "stdout",
     "output_type": "stream",
     "text": [
      "spanning-tree mode rapid-pvst\n",
      "\n",
      "clock timezone cdt -6\n",
      "ntp server 216.197.156.83\n",
      "ntp update-calendar\n",
      "\n",
      "clock timezone cdt -6\n",
      "clock summer-time DST recurring\n",
      "service timestamps debug datetime msec localtime \n",
      "service timestamps log datetime msec localtime\n",
      "\n",
      "vlan 100\n",
      " name Data\n",
      "vlan 101\n",
      " name Voice\n",
      "vlan 102\n",
      " name Test \n",
      "\n",
      "interface vlan 1\n",
      " description In-band Management\n",
      "\n",
      "ip default-gateway 192.168.0.1\n",
      "ip dhcp snooping vlan 100,101\n",
      "\n",
      "no ip dhcp snooping information option \n",
      "ip dhcp snooping\n",
      "ip arp inspection vlan 100,101\n",
      "spanning-tree portfast bpduguard default\n",
      "\n",
      "interface range GigabitEthernet 2/0 - 3\n",
      " switchport\n",
      " switchport access vlan 100\n",
      " switchport voice vlan 101\n",
      " switchport host\n",
      " switchport port-security maximum 2 \n",
      " switchport port-security\n",
      " switchport port-security aging time 2\n",
      " switchport port-security aging type inactivity \n",
      " switchport port-security violation restrict \n",
      " ip arp inspection limit rate 100\n",
      " ip dhcp snooping limit rate 100\n",
      " ip verify source\n"
     ]
    }
   ],
   "source": [
    "# More refined code\n",
    "\n",
    "with open('base_config') as f:\n",
    "    file_as_list = f.read().splitlines()\n",
    "for line in file_as_list:\n",
    "  print(line)\n",
    "f.close()"
   ]
  },
  {
   "cell_type": "code",
   "execution_count": 10,
   "metadata": {},
   "outputs": [
    {
     "ename": "ModuleNotFoundError",
     "evalue": "No module named 'netmiko'",
     "output_type": "error",
     "traceback": [
      "\u001b[1;31m---------------------------------------------------------------------------\u001b[0m",
      "\u001b[1;31mModuleNotFoundError\u001b[0m                       Traceback (most recent call last)",
      "\u001b[1;32m<ipython-input-10-45909d3edc38>\u001b[0m in \u001b[0;36m<module>\u001b[1;34m\u001b[0m\n\u001b[0;32m      1\u001b[0m \u001b[1;32mfrom\u001b[0m \u001b[0mgetpass\u001b[0m \u001b[1;32mimport\u001b[0m \u001b[0mgetpass\u001b[0m\u001b[1;33m\u001b[0m\u001b[1;33m\u001b[0m\u001b[0m\n\u001b[1;32m----> 2\u001b[1;33m \u001b[1;32mfrom\u001b[0m \u001b[0mnetmiko\u001b[0m \u001b[1;32mimport\u001b[0m \u001b[0mConnectHandler\u001b[0m\u001b[1;33m\u001b[0m\u001b[1;33m\u001b[0m\u001b[0m\n\u001b[0m\u001b[0;32m      3\u001b[0m \u001b[1;33m\u001b[0m\u001b[0m\n\u001b[0;32m      4\u001b[0m \u001b[0musername\u001b[0m \u001b[1;33m=\u001b[0m \u001b[0minput\u001b[0m\u001b[1;33m(\u001b[0m\u001b[1;34m'Enter your SSH username: '\u001b[0m\u001b[1;33m)\u001b[0m\u001b[1;33m\u001b[0m\u001b[1;33m\u001b[0m\u001b[0m\n\u001b[0;32m      5\u001b[0m \u001b[0mpassword\u001b[0m \u001b[1;33m=\u001b[0m \u001b[0mgetpass\u001b[0m\u001b[1;33m(\u001b[0m\u001b[1;33m)\u001b[0m\u001b[1;33m\u001b[0m\u001b[1;33m\u001b[0m\u001b[0m\n",
      "\u001b[1;31mModuleNotFoundError\u001b[0m: No module named 'netmiko'"
     ]
    }
   ],
   "source": [
    "from getpass import getpass\n",
    "from netmiko import ConnectHandler\n",
    "\n",
    "username = input('Enter your SSH username: ')\n",
    "password = getpass()\n",
    "secret = getpass()\n",
    "\n",
    "R1 = ConnectHandler(\n",
    "        device_type='cisco_ios', \n",
    "        host='192.168.56.108', \n",
    "        port=22, \n",
    "        username= username, \n",
    "        password= password,\n",
    "\t\tsecret= secret\n",
    "        )\n",
    "R1.enable()\n",
    "\n",
    "print(\"Sending 'sh ip int brief'.\")\n",
    "output = R1.send_command(\"show ip int br\")\n",
    "print(\"IP interface status and configuration:\\n{}\\n\".format(output))\n",
    "\n",
    "# output = sshCli.send_command(\"show run\")\n",
    "# print(\"Showing running config from the device:\\n{}\\n\".format(output))\n",
    "\n"
   ]
  },
  {
   "cell_type": "code",
   "execution_count": null,
   "metadata": {},
   "outputs": [],
   "source": [
    "import netmiko\n",
    "from netmiko import ConnectHandler\n",
    "\n",
    "DSW1 = {\n",
    "    \"device_type\" : \"cisco_ios\",\n",
    "    \"host\" : \"192.168.0.98\",\n",
    "    \"port\" : 22,\n",
    "    \"username\" : \"cisco\",\n",
    "    \"password\" : \"cisco123!\"\n",
    "    }\n",
    "\n",
    "DSW2 = {\n",
    "    \"device_type\" : \"cisco_ios\",\n",
    "    \"host\" : \"192.168.0.99\",\n",
    "    \"port\" : 22,\n",
    "    \"username\" : \"cisco\",\n",
    "    \"password\" : \"cisco123!\"\n",
    "    }\n",
    "\n",
    "\n",
    "with open('base_config') as f:\n",
    "    lines = f.read().splitlines()\n",
    "#print (lines)\n",
    "f.close()\n",
    "\n",
    "Dist_Swiches = [DSW1, DSW2]\n",
    "\n",
    "for switches in Dist_Swiches:\n",
    "    net_connect = ConnectHandler(**switches)\n",
    "    output = net_connect.send_config_set(lines)\n",
    "    print(output)\n"
   ]
  },
  {
   "cell_type": "code",
   "execution_count": null,
   "metadata": {},
   "outputs": [],
   "source": [
    "1/2*3"
   ]
  },
  {
   "cell_type": "code",
   "execution_count": null,
   "metadata": {},
   "outputs": [],
   "source": [
    "\n",
    "DSW1 = {\n",
    "    \"device_type\" : \"cisco_ios\",\n",
    "    \"host\" : \"192.168.0.99\",\n",
    "    \"port\" : 22,\n",
    "    \"username\" : \"cisco\",\n",
    "    \"password\" : \"cisco123!\"\n",
    "    }\n",
    "\n",
    "# with open('host_change') as f:\n",
    "#     lines = f.read().splitlines()\n",
    "# print (lines)\n",
    "\n",
    "Dist_Swiches = [DSW1]\n",
    "print(Dist_Swiches)\n"
   ]
  },
  {
   "cell_type": "code",
   "execution_count": null,
   "metadata": {},
   "outputs": [],
   "source": [
    "x= int(input())\n",
    "y= int(input())\n",
    "\n",
    "x= x // y\n",
    "y = y // x\n",
    "print(y)"
   ]
  },
  {
   "cell_type": "code",
   "execution_count": null,
   "metadata": {},
   "outputs": [],
   "source": [
    "\n",
    "{\n",
    "  \"ietf-interfaces:interfaces\": {\n",
    "    \"interface\": [\n",
    "      {\n",
    "        \"name\": \"GigabitEthernet1\",\n",
    "        \"description\": \"VBox\",\n",
    "        \"type\": \"iana-if-type:ethernetCsmacd\",\n",
    "        \"enabled\": true,\n",
    "        \"ietf-ip:ipv4\": {},\n",
    "        \"ietf-ip:ipv6\": {}\n",
    "      }\n",
    "    ]\n",
    "  }\n",
    "}\n"
   ]
  },
  {
   "cell_type": "code",
   "execution_count": null,
   "metadata": {},
   "outputs": [],
   "source": [
    "x=input()\n",
    "y=int(input())\n",
    "\n",
    "print(x * y)\n"
   ]
  },
  {
   "cell_type": "code",
   "execution_count": null,
   "metadata": {},
   "outputs": [],
   "source": [
    "{\n",
    "  \"ietf-interfaces:interfaces\": {\n",
    "    \"interface\": [\n",
    "      {\n",
    "        \"name\": \"GigabitEthernet1\",\n",
    "        \"description\": \"VBox\",\n",
    "        \"type\": \"iana-if-type:ethernetCsmacd\",\n",
    "        \"enabled\": true,\n",
    "        \"ietf-ip:ipv4\": {},\n",
    "        \"ietf-ip:ipv6\": {}\n",
    "      },\n",
    "      {\n",
    "        \"name\": \"Loopback0\",\n",
    "        \"description\": \"This is test Loopback\",\n",
    "        \"type\": \"iana-if-type:softwareLoopback\",\n",
    "        \"enabled\": true,\n",
    "        \"ietf-ip:ipv4\": {\n",
    "          \"address\": [\n",
    "            {\n",
    "              \"ip\": \"172.16.16.1\",\n",
    "              \"netmask\": \"255.255.255.0\"\n",
    "            }\n",
    "          ]\n",
    "        },\n",
    "        \"ietf-ip:ipv6\": {}\n",
    "      }\n",
    "    ]\n",
    "  }\n",
    "}"
   ]
  }
 ],
 "metadata": {
  "kernelspec": {
   "display_name": "Python 3",
   "language": "python",
   "name": "python3"
  },
  "language_info": {
   "codemirror_mode": {
    "name": "ipython",
    "version": 3
   },
   "file_extension": ".py",
   "mimetype": "text/x-python",
   "name": "python",
   "nbconvert_exporter": "python",
   "pygments_lexer": "ipython3",
   "version": "3.8.5"
  }
 },
 "nbformat": 4,
 "nbformat_minor": 4
}
