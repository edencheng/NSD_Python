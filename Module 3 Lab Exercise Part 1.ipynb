{
 "cells": [
  {
   "cell_type": "code",
   "execution_count": 39,
   "metadata": {},
   "outputs": [
    {
     "name": "stdout",
     "output_type": "stream",
     "text": [
      "Enter the Device hostname. Press <Enter> when done:R1\n",
      "Device added.\n",
      "Enter the Device hostname. Press <Enter> when done:R2\n",
      "Device added.\n",
      "Enter the Device hostname. Press <Enter> when done:R3\n",
      "Device added.\n",
      "Enter the Device hostname. Press <Enter> when done:R4\n",
      "Device added.\n",
      "Enter the Device hostname. Press <Enter> when done:\n",
      "\n",
      "Equipment List:\n",
      "---------------\n",
      "R1\n",
      "R2\n",
      "R3\n",
      "R4\n"
     ]
    }
   ],
   "source": [
    "myList = []\n",
    "temp = \"Nil\"\n",
    "\n",
    "while temp != \"\":\n",
    "    temp = str(input(\"Enter the Device hostname. Press <Enter> when done:\"))\n",
    "    if temp !=\"\":\n",
    "        myList.append(temp)\n",
    "        print(\"Device added.\")\n",
    "else:\n",
    "    print(\"\\nEquipment List:\", \"-\"* len(\"Equipment List:\"), sep = \"\\n\")\n",
    "    for i in myList:\n",
    "        print(i)\n",
    "   \n",
    "    "
   ]
  },
  {
   "cell_type": "code",
   "execution_count": null,
   "metadata": {},
   "outputs": [],
   "source": []
  },
  {
   "cell_type": "code",
   "execution_count": null,
   "metadata": {},
   "outputs": [],
   "source": []
  },
  {
   "cell_type": "code",
   "execution_count": null,
   "metadata": {},
   "outputs": [],
   "source": []
  }
 ],
 "metadata": {
  "kernelspec": {
   "display_name": "Python 3",
   "language": "python",
   "name": "python3"
  },
  "language_info": {
   "codemirror_mode": {
    "name": "ipython",
    "version": 3
   },
   "file_extension": ".py",
   "mimetype": "text/x-python",
   "name": "python",
   "nbconvert_exporter": "python",
   "pygments_lexer": "ipython3",
   "version": "3.8.5"
  }
 },
 "nbformat": 4,
 "nbformat_minor": 4
}
