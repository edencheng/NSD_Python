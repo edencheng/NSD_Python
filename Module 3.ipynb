{
 "cells": [
  {
   "cell_type": "code",
   "execution_count": null,
   "metadata": {},
   "outputs": [],
   "source": [
    "# Boolean values\n",
    "# Comparison examples\n",
    "\n",
    "a = 1 == 2\n",
    "print(\"a is\", a)\n",
    "\n",
    "b = 1 >= 2\n",
    "print(\"b is\",b)\n",
    "\n",
    "c = 3 <= 3\n",
    "print(\"c is\",c)\n",
    "\n",
    "d = 3 < 3\n",
    "print(\"d is\",d)\n",
    "\n",
    "e = 4 != 5\n",
    "print(\"e is\",e)"
   ]
  },
  {
   "cell_type": "code",
   "execution_count": null,
   "metadata": {},
   "outputs": [],
   "source": [
    "# Boolean values - continuation\n",
    "# Logic operators examples\n",
    "\n",
    "print(\"a and b is\",a and b)\n",
    "print(\"a and c is\",a and c)\n",
    "print(\"a or c is\",a or c)\n",
    "print(\"Not a is\",not a)\n",
    "print(\"a and b or c and not d is\", a and b or c and not d)"
   ]
  },
  {
   "cell_type": "code",
   "execution_count": null,
   "metadata": {},
   "outputs": [],
   "source": [
    "#Conditional execution: the if statement\n",
    "\n",
    "a = 1\n",
    "b = 2\n",
    "if a < b:\n",
    "    print(\"a is less than b\")\n",
    "print(\"a is diffinitely less than b\")\n",
    "\n",
    "print(\"Not sure if a is less than b\")"
   ]
  },
  {
   "cell_type": "code",
   "execution_count": null,
   "metadata": {},
   "outputs": [],
   "source": [
    "#Conditional execution: the if-else statement\n",
    "\n",
    "c = 3\n",
    "d = 4\n",
    "\n",
    "if c < d:\n",
    "    print(\"c is less than d\")\n",
    "else:\n",
    "    print(\"c is NOT less than d\")\n",
    "\n",
    "print(\"outside the if-else block\")\n",
    "\n"
   ]
  },
  {
   "cell_type": "code",
   "execution_count": null,
   "metadata": {},
   "outputs": [],
   "source": [
    "meal = \"Sandwich\"\n",
    "\n",
    "money = 2\n",
    "\n",
    "if (meal == \"fruit\" or meal == \"sandwich\") and money >= 2:\n",
    "    print(\"Lunch being delivered\")\n",
    "else:\n",
    "    print(\"Can't deliver lunch\")"
   ]
  },
  {
   "cell_type": "code",
   "execution_count": null,
   "metadata": {},
   "outputs": [],
   "source": [
    "# Nested if-else statement\n",
    "\n",
    "x = 12\n",
    "\n",
    "if x > 5:\n",
    "    if x == 6:\n",
    "        print(\"Nested: x == 6\")\n",
    "    \n",
    "    elif x == 10:\n",
    "        print(\"Nested: x == 10\")\n",
    "\n",
    "    else:\n",
    "        print(\"Nested: else\")\n",
    "else:\n",
    "    print(\"outside else\")\n",
    "\n",
    "y = x + 1\n",
    "print(y)"
   ]
  },
  {
   "cell_type": "code",
   "execution_count": null,
   "metadata": {},
   "outputs": [],
   "source": [
    "# Each IF is tested separately.\n",
    "# The body of ELSE is executed if the last IF is False:\n",
    "\n",
    "x = 10\n",
    "\n",
    "if x == 10: #True\n",
    "    print(\"x == 10\") # Executed if it is True\n",
    "\n",
    "if x > 15: #False\n",
    "    print(\"x > 15\")\n",
    "\n",
    "elif x > 10: #False\n",
    "    print(\"x > 10\")  \n",
    "\n",
    "elif x > 5: #True\n",
    "    print(\"x > 5\") \n",
    "\n",
    "else: # Executed if the last IF is False\n",
    "    print(\"else will not be executed\")"
   ]
  },
  {
   "cell_type": "code",
   "execution_count": null,
   "metadata": {},
   "outputs": [],
   "source": [
    "# Each IF is tested separately.\n",
    "# The body of ELSE is executed if the last IF is False:\n",
    "\n",
    "x = 11\n",
    "\n",
    "if x == 10: #True\n",
    "    print(\"x == 10\") # Executed if it is True\n",
    "\n",
    "if x > 15: #False\n",
    "    print(\"x > 15\")\n",
    "\n",
    "if x > 10: #False\n",
    "    print(\"x > 10\")  \n",
    "\n",
    "if x > 5: #True\n",
    "    print(\"x > 5\") \n",
    "\n",
    "else: # Executed if the last IF is False\n",
    "    print(\"else will not be executed\")"
   ]
  },
  {
   "cell_type": "code",
   "execution_count": null,
   "metadata": {},
   "outputs": [],
   "source": [
    "# A series of IF statements followed by an ELSE, e.g.\n",
    "\n",
    "x = 6\n",
    "\n",
    "if x > 5: # True\n",
    "    print(\"x > 5\")\n",
    "\n",
    "if x > 8: # True\n",
    "    print(\"x > 8\")  \n",
    "\n",
    "if x > 10: # False\n",
    "    print(\"x > 10\")\n",
    "\n",
    "else: # Executed if the last IF is False\n",
    "    print(\"else will be executed\")"
   ]
  },
  {
   "cell_type": "code",
   "execution_count": null,
   "metadata": {},
   "outputs": [],
   "source": [
    "# we will store the current largest number here\n",
    "largest_number = -9999999999999\n",
    "\n",
    "#input the first value\n",
    "number = int(input(\"Enter a number or type -1 to stop: \"))\n",
    "\n",
    "#if the number is not equal to -1, we will continue\n",
    "while number != -1:\n",
    "    # is the number larger than the largest_number?\n",
    "    if number > largest_number:\n",
    "        # yes, update largest_number\n",
    "        largest_number = number\n",
    "    # input the next number\n",
    "    number = int(input(\"Please Enter another number or type -1 to stop: \"))\n",
    "    \n",
    "print(\"The largest number is: \", largest_number)"
   ]
  },
  {
   "cell_type": "code",
   "execution_count": null,
   "metadata": {},
   "outputs": [],
   "source": [
    "# while loop\n",
    "\n",
    "i = 0\n",
    "while i < 20:\n",
    "    i += 5\n",
    "    print(i, end = \" \")"
   ]
  },
  {
   "cell_type": "code",
   "execution_count": null,
   "metadata": {},
   "outputs": [],
   "source": [
    "# for loop\n",
    "\n",
    "for i in range(20):\n",
    "    i +=  5\n",
    "    print(i, end = \" \")"
   ]
  },
  {
   "cell_type": "code",
   "execution_count": null,
   "metadata": {},
   "outputs": [],
   "source": [
    "# for loop\n",
    "\n",
    "for i in range(10):\n",
    "    print(i, end = \" \")"
   ]
  },
  {
   "cell_type": "code",
   "execution_count": null,
   "metadata": {},
   "outputs": [],
   "source": [
    "# Combination of while and if-else statements\n",
    "\n",
    "a = int(input(\"Enter a positive value for a: \"))\n",
    "\n",
    "while a < 0:\n",
    "    a = int(input(\"Invalid number, Enter a positive value for a: \"))\n",
    "    \n",
    "b = int(input(\"Enter a positive value for b: \"))  \n",
    "while b < 0:\n",
    "    b = int(input(\"Invalid number, Enter a positive value for b: \"))\n",
    "\n",
    "    \n",
    "if a <= 5 and b <= 5:\n",
    "    print(\"The entered numbers were both less than or equal to 5\")\n",
    "    print(\"The product is: \", a * b, \"and should not be greater than 25\")\n",
    "    print()\n",
    "else:\n",
    "    print(\"Either number is greater than 5\")\n",
    "    print(\"The product is: \", a * b,)"
   ]
  },
  {
   "cell_type": "code",
   "execution_count": null,
   "metadata": {},
   "outputs": [],
   "source": [
    "# break - exits the loop immediately, and unconditionally ends the loop's operation;\n",
    "# the program begins to execute the nearest instruction after the loop's body;\n",
    "\n",
    "# break - example\n",
    "\n",
    "print(\"The break instruction:\")\n",
    "for i in range(1, 6):\n",
    "    if i == 3:\n",
    "        break\n",
    "    print(\"Inside the loop.\", i)\n",
    "print(\"Outside the loop.\")\n",
    "\n",
    "\n",
    "# continue - behaves as if the program has suddenly reached the end of the body;\n",
    "# the next turn is started and the condition expression is tested immediately.\n",
    "\n",
    "# continue - example\n",
    "\n",
    "print(\"\\nThe continue instruction:\")\n",
    "for i in range(1, 6):\n",
    "    if i == 3:\n",
    "        continue\n",
    "    print(\"Inside the loop.\", i)\n",
    "print(\"Outside the loop.\")"
   ]
  },
  {
   "cell_type": "code",
   "execution_count": null,
   "metadata": {},
   "outputs": [],
   "source": [
    "#Checking Input\n",
    "\n",
    "while True:\n",
    "    try:\n",
    "        input_num = int(input(\"Enter a number: \"))\n",
    "    except ValueError:\n",
    "        print(\"Not a valid number! Try again\")\n",
    "        continue\n",
    "    else:\n",
    "        break\n",
    "number = input_num ** 2.0\n",
    "print(input_num, \"to the power of 2 is\", number)"
   ]
  },
  {
   "cell_type": "code",
   "execution_count": null,
   "metadata": {},
   "outputs": [],
   "source": [
    "i =111\n",
    "for i in range(2, 1):\n",
    "    print(i)\n",
    "else:\n",
    "    print(\"else:\", i)"
   ]
  },
  {
   "cell_type": "code",
   "execution_count": null,
   "metadata": {},
   "outputs": [],
   "source": [
    "counter = 1\n",
    "value = 100\n",
    "print(counter > 0 and value == 100)\n"
   ]
  },
  {
   "cell_type": "code",
   "execution_count": null,
   "metadata": {},
   "outputs": [],
   "source": [
    "var = 1\n",
    "\n",
    "print(var > 0)\n",
    "print(not (var <= 0))"
   ]
  },
  {
   "cell_type": "code",
   "execution_count": null,
   "metadata": {},
   "outputs": [],
   "source": [
    "i = 1\n",
    "j = not not i\n",
    "print(j)"
   ]
  },
  {
   "cell_type": "code",
   "execution_count": null,
   "metadata": {},
   "outputs": [],
   "source": [
    "i = 4\n",
    "j = 2\n",
    "\n",
    "k = i & j\n",
    "print(k)"
   ]
  },
  {
   "cell_type": "code",
   "execution_count": null,
   "metadata": {},
   "outputs": [],
   "source": [
    "x = 4\n",
    "y = 1\n",
    "\n",
    "a = x & y\n",
    "print(a)"
   ]
  },
  {
   "cell_type": "code",
   "execution_count": null,
   "metadata": {},
   "outputs": [],
   "source": [
    "# Bit shifting\n",
    "\n",
    "var = 17\n",
    "varR = var >> 2\n",
    "varL = var << 2\n",
    "print(var)\n",
    "print(varR)\n",
    "print(varL)\n"
   ]
  },
  {
   "cell_type": "code",
   "execution_count": null,
   "metadata": {},
   "outputs": [],
   "source": [
    "# example - bit operations\n",
    "\n",
    "x = 1\n",
    "y = 0\n",
    "\n",
    "z = ((x == y) and (x == y)) or not(x == y)\n",
    "print(z)\n",
    "print(not(z))"
   ]
  },
  {
   "cell_type": "code",
   "execution_count": null,
   "metadata": {},
   "outputs": [],
   "source": [
    "# example - bit operations\n",
    "\n",
    "x = 4\n",
    "y = 5\n",
    "\n",
    "a = x & y\n",
    "b = x | y\n",
    "c = ~x\n",
    "d = x ^ 5\n",
    "e = x >> 2\n",
    "f = x << 2\n",
    "\n",
    "print(a, b, c, d, e, f)\n"
   ]
  },
  {
   "cell_type": "code",
   "execution_count": null,
   "metadata": {},
   "outputs": [],
   "source": [
    "# The De Morgan's laws. They say that:\n",
    "# The negation of a conjunction is the disjunction of the negations.\n",
    "# The negation of a disjunction is the conjunction of the negations.\n",
    "\n",
    "p = 1\n",
    "q = 1\n",
    "print((not (p and q)) == ((not p) or (not q)))\n",
    "print((not (p or q)) == ((not p) and (not q)))"
   ]
  },
  {
   "cell_type": "code",
   "execution_count": null,
   "metadata": {},
   "outputs": [],
   "source": [
    "# Printing a list\n",
    "\n",
    "print(\"Location list\")\n",
    "locations = [\"Winnipeg\",\"Toronto\",\"Vancouver\",\"Ottawa\"]\n",
    "print(locations)"
   ]
  },
  {
   "cell_type": "code",
   "execution_count": null,
   "metadata": {},
   "outputs": [],
   "source": [
    "# Printing the lenght of the list\n",
    "locations = [\"Winnipeg\",\"Toronto\",\"Vancouver\",\"Ottawa\", \"Brandon\"]\n",
    "print(len(locations))"
   ]
  },
  {
   "cell_type": "code",
   "execution_count": null,
   "metadata": {},
   "outputs": [],
   "source": [
    "# Printing selected item from the list\n",
    "print(\"# Printing the list in reverse\")\n",
    "locations = [\"Winnipeg\",\"Toronto\",\"Vancouver\",\"Ottawa\"]\n",
    "print(locations[-1]) # Represents the last item in the list\n",
    "print(locations[-3]) # Represents the second from the last item in the list\n",
    "print(locations[0]) # Represents the first item in the listJupyter Notebook\n"
   ]
  },
  {
   "cell_type": "code",
   "execution_count": null,
   "metadata": {},
   "outputs": [],
   "source": [
    "# To add a single item at the end of the list use append method\n",
    "\n",
    "loc_input = input(\"Enter location: \")\n",
    "locations = [\"Winnipeg\",\"Toronto\",\"Vancouver\",\"Ottawa\"]\n",
    "locations.append(loc_input)\n",
    "print(locations)"
   ]
  },
  {
   "cell_type": "code",
   "execution_count": null,
   "metadata": {},
   "outputs": [],
   "source": [
    "# To add multiple items at the end of the list use extend\n",
    "locations = [\"Winnipeg\",\"Toronto\",\"Vancouver\",\"Ottawa\"]\n",
    "locations.extend([\"Calgary\",\"St. John\"])\n",
    "print(locations)"
   ]
  },
  {
   "cell_type": "code",
   "execution_count": null,
   "metadata": {},
   "outputs": [],
   "source": [
    "# To add multiple items at the end of the list use extend\n",
    "locations = [\"Winnipeg\",\"Toronto\",\"Vancouver\",\"Ottawa\"]\n",
    "locations.extend([\"Calgary\",\"St. John\"])\n",
    "print(locations)"
   ]
  },
  {
   "cell_type": "code",
   "execution_count": 1,
   "metadata": {},
   "outputs": [
    {
     "name": "stdout",
     "output_type": "stream",
     "text": [
      "['Winnipeg', 'Victoria', 'Toronto', 'Vancouver', 'Ottawa']\n",
      "['Winnipeg', 'Toronto', 'Vancouver', 'Halifax', 'Ottawa']\n"
     ]
    }
   ],
   "source": [
    "# Add an item at any point in the list using insert indicating the index\n",
    "locations = [\"Winnipeg\",\"Toronto\",\"Vancouver\",\"Ottawa\"]\n",
    "locations.insert(-3,\"Victoria\") # Adding \"Victoria\" at the beginning of the list\n",
    "print(locations)\n",
    "\n",
    "locations = [\"Winnipeg\",\"Toronto\",\"Vancouver\",\"Ottawa\"]\n",
    "# Adding \"Halifax\" second from the last of the list, \n",
    "# otherwise use append method to add item at the end of the list\n",
    "locations.insert(-1,\"Halifax\")\n",
    "print(locations)"
   ]
  },
  {
   "cell_type": "code",
   "execution_count": null,
   "metadata": {},
   "outputs": [],
   "source": [
    "# Deleting elements in the list\n",
    "locations = [\"Winnipeg\",\"Toronto\",\"Vancouver\",\"Ottawa\"]\n",
    "del (locations[0])\n",
    "print(locations)"
   ]
  },
  {
   "cell_type": "code",
   "execution_count": 10,
   "metadata": {},
   "outputs": [
    {
     "name": "stdout",
     "output_type": "stream",
     "text": [
      "The first two locations are: ['Winnipeg', 'Toronto']\n",
      "The last two locations are: ['Vancouver', 'Ottawa']\n",
      "The first two and last two locations in the list are: \n",
      " ['Winnipeg', 'Toronto'] and ['Vancouver', 'Ottawa']\n"
     ]
    }
   ],
   "source": [
    "# To access a portion of the list, use slice\n",
    "# new_list = list[index0:index2], it starts from the index \n",
    "# and goes up to but does not include the last index\n",
    "locations = [\"Winnipeg\",\"Toronto\",\"Vancouver\",\"Ottawa\"]\n",
    "first_two = locations[0:2]\n",
    "last_two = locations[-2:]\n",
    "print(\"The first two locations are: {}\" .format(first_two))\n",
    "print(\"The last two locations are: {}\" .format(last_two))\n",
    "print(\"The first two and last two locations in the list are: \\n {} and {}\"  .format(first_two, last_two))"
   ]
  },
  {
   "cell_type": "code",
   "execution_count": null,
   "metadata": {},
   "outputs": [],
   "source": [
    "# Extracting part of the name in the list\n",
    "locations = [\"Winnipeg\",\"Toronto\",\"Vancouver\",\"Ottawa\"]\n",
    "part_of_Winnipeg = ()\n",
    "for findWinnipeg in locations:\n",
    "    if findWinnipeg == \"Winnipeg\":\n",
    "        part_of_Winnipeg = findWinnipeg[-3:]\n",
    "        print(\"The '{}' is the short name of Winnipeg.\" .format(part_of_Winnipeg))"
   ]
  },
  {
   "cell_type": "code",
   "execution_count": null,
   "metadata": {},
   "outputs": [],
   "source": [
    "# Finding an item in a list and printing the value and index\n",
    "locations = [\"Winnipeg\",\"Toronto\",\"Vancouver\",\"Ottawa\"]\n",
    "loc_index = locations.index(\"Vancouver\")\n",
    "print(locations[loc_index], loc_index)"
   ]
  },
  {
   "cell_type": "code",
   "execution_count": null,
   "metadata": {},
   "outputs": [],
   "source": [
    "myList = [] # creating an empty list\n",
    "\n",
    "for i in range(5):\n",
    "    myList.append(i + 1)\n",
    "\n",
    "print(myList)"
   ]
  },
  {
   "cell_type": "code",
   "execution_count": 3,
   "metadata": {},
   "outputs": [
    {
     "name": "stdout",
     "output_type": "stream",
     "text": [
      "[5, 4, 3, 2, 1]\n"
     ]
    }
   ],
   "source": [
    "myList = [] # creating an empty list\n",
    "\n",
    "for i in range(5):\n",
    "    myList.insert(0, i + 1)\n",
    "\n",
    "print(myList)"
   ]
  },
  {
   "cell_type": "code",
   "execution_count": null,
   "metadata": {},
   "outputs": [],
   "source": [
    "myList = [10, 1, 8, 3, 5]\n",
    "total = 0\n",
    "\n",
    "for i in range(len(myList)):\n",
    "    total += myList[i]\n",
    "\n",
    "print(total)"
   ]
  },
  {
   "cell_type": "code",
   "execution_count": null,
   "metadata": {},
   "outputs": [],
   "source": [
    "myList = [10, 1, 8, 3, 5]\n",
    "total = 0\n",
    "\n",
    "for i in myList:\n",
    "    total += i\n",
    "\n",
    "print(total)"
   ]
  },
  {
   "cell_type": "code",
   "execution_count": 4,
   "metadata": {},
   "outputs": [
    {
     "name": "stdout",
     "output_type": "stream",
     "text": [
      "10\n"
     ]
    }
   ],
   "source": [
    "myList = [10, 1, 8, 3, 5]\n",
    "total = 0\n",
    "\n",
    "for i in range(len(myList)):\n",
    "    total += i\n",
    "    \n",
    "print(total)"
   ]
  },
  {
   "cell_type": "code",
   "execution_count": 5,
   "metadata": {},
   "outputs": [
    {
     "name": "stdout",
     "output_type": "stream",
     "text": [
      "5\n",
      "[10, 1, 8]\n"
     ]
    }
   ],
   "source": [
    "# Accessing portion of the list using slice\n",
    "\n",
    "myList = [10, 1, 8, 3, 5]\n",
    "length = len(myList)\n",
    "print(length)\n",
    "print(myList[0:3])"
   ]
  },
  {
   "cell_type": "code",
   "execution_count": 6,
   "metadata": {},
   "outputs": [
    {
     "name": "stdout",
     "output_type": "stream",
     "text": [
      "[10, 4, 2]\n"
     ]
    }
   ],
   "source": [
    "# Deleting portion of the list, using slice\n",
    "\n",
    "myList = [10, 8, 6, 4, 2]\n",
    "del myList[1:3]\n",
    "print(myList)"
   ]
  },
  {
   "cell_type": "code",
   "execution_count": 7,
   "metadata": {},
   "outputs": [
    {
     "ename": "NameError",
     "evalue": "name 'myList' is not defined",
     "output_type": "error",
     "traceback": [
      "\u001b[1;31m---------------------------------------------------------------------------\u001b[0m",
      "\u001b[1;31mNameError\u001b[0m                                 Traceback (most recent call last)",
      "\u001b[1;32m<ipython-input-7-872fbbec79c3>\u001b[0m in \u001b[0;36m<module>\u001b[1;34m\u001b[0m\n\u001b[0;32m      3\u001b[0m \u001b[0mmyList\u001b[0m \u001b[1;33m=\u001b[0m \u001b[1;33m[\u001b[0m\u001b[1;36m10\u001b[0m\u001b[1;33m,\u001b[0m \u001b[1;36m8\u001b[0m\u001b[1;33m,\u001b[0m \u001b[1;36m6\u001b[0m\u001b[1;33m,\u001b[0m \u001b[1;36m4\u001b[0m\u001b[1;33m,\u001b[0m \u001b[1;36m2\u001b[0m\u001b[1;33m]\u001b[0m\u001b[1;33m\u001b[0m\u001b[1;33m\u001b[0m\u001b[0m\n\u001b[0;32m      4\u001b[0m \u001b[1;32mdel\u001b[0m \u001b[0mmyList\u001b[0m\u001b[1;33m\u001b[0m\u001b[1;33m\u001b[0m\u001b[0m\n\u001b[1;32m----> 5\u001b[1;33m \u001b[0mprint\u001b[0m\u001b[1;33m(\u001b[0m\u001b[0mmyList\u001b[0m\u001b[1;33m)\u001b[0m\u001b[1;33m\u001b[0m\u001b[1;33m\u001b[0m\u001b[0m\n\u001b[0m",
      "\u001b[1;31mNameError\u001b[0m: name 'myList' is not defined"
     ]
    }
   ],
   "source": [
    "# Deleting the complete list, not only the contents but the list itself.\n",
    "\n",
    "myList = [10, 8, 6, 4, 2]\n",
    "del myList\n",
    "print(myList)"
   ]
  },
  {
   "cell_type": "code",
   "execution_count": null,
   "metadata": {},
   "outputs": [],
   "source": [
    "# The assignment list2 = list1 copies the name of the array, not its contents.\n",
    "# In effect, the two names (list1) and (list2) identify the same location in the computer memory.\n",
    "# Modifying one of them affects the other, and vice versa.\n",
    "\n",
    "list1 = [1]\n",
    "list2 = list1\n",
    "list1[0] = 2 # changing the value of list1 index 0 which is currently 1 to 2\n",
    "print(list2)"
   ]
  },
  {
   "cell_type": "code",
   "execution_count": null,
   "metadata": {},
   "outputs": [],
   "source": [
    "myList = [17, 3, 11, 5, 1, 9, 7, 15, 13]\n",
    "largest = myList[1]\n",
    "\n",
    "for i in myList:\n",
    "    if i > largest:\n",
    "        largest = i\n",
    "\n",
    "print(largest)"
   ]
  },
  {
   "cell_type": "code",
   "execution_count": null,
   "metadata": {},
   "outputs": [],
   "source": [
    "# A list within a list\n",
    "\n",
    "list1 = [\"R1\", \"R2\", \"R3\"]\n",
    "list2 = [\"S1\", \"S2\", \"S3\"]\n",
    "list3 = [\"ASA\", \"ESA\", [\"WSA1\", \"WSA2\" ]]\n",
    "\n",
    "print(list1[2])\n",
    "\n",
    "devices = [list1, list2, list3]\n",
    "print(devices)\n",
    "\n"
   ]
  },
  {
   "cell_type": "code",
   "execution_count": null,
   "metadata": {},
   "outputs": [],
   "source": [
    "new_list = [[[(x ** 2) + 4 for x in range(3)] for y in range(4)] for z in range(2)]\n",
    "print(new_list)"
   ]
  },
  {
   "cell_type": "code",
   "execution_count": null,
   "metadata": {},
   "outputs": [],
   "source": [
    "lstdimen = [[a ** 2 for a in range(3)] for b in range(4)]\n",
    "print(lstdimen)\n",
    "print(lstdimen[3][0])"
   ]
  },
  {
   "cell_type": "code",
   "execution_count": null,
   "metadata": {},
   "outputs": [],
   "source": [
    "myList = [0, 3, 12, 8, 2]\n",
    "\n",
    "print(5 in myList)\n",
    "print(5 not in myList)\n",
    "print(12 in myList)"
   ]
  },
  {
   "cell_type": "code",
   "execution_count": null,
   "metadata": {},
   "outputs": [],
   "source": [
    "#Swapping value to reverse the order\n",
    "\n",
    "variable1 = 1\n",
    "variable2 = 2\n",
    "\n",
    "variable2 = variable1\n",
    "variable1 = variable2\n",
    "\n",
    "print(variable1)\n",
    "print(variable2)"
   ]
  },
  {
   "cell_type": "code",
   "execution_count": null,
   "metadata": {},
   "outputs": [],
   "source": [
    "#Swapping value to reverse the order\n",
    "\n",
    "variable1 = 1\n",
    "variable2 = 2\n",
    "\n",
    "auxiliary = variable1\n",
    "variable1 = variable2\n",
    "variable2 = auxiliary\n",
    "\n",
    "print(variable1)\n",
    "print(variable2)"
   ]
  },
  {
   "cell_type": "code",
   "execution_count": null,
   "metadata": {},
   "outputs": [],
   "source": [
    "#Swapping value to reverse the order\n",
    "\n",
    "variable1 = 1\n",
    "variable2 = 2\n",
    "\n",
    "variable1, variable2 = variable2, variable1\n",
    "\n",
    "print(variable1)\n",
    "print(variable2)"
   ]
  },
  {
   "cell_type": "code",
   "execution_count": null,
   "metadata": {},
   "outputs": [],
   "source": [
    "#Swapping value to reverse the order\n",
    "\n",
    "myList = [1, 2, 3, 4, 5, 6, 7]\n",
    "length = len(myList)\n",
    "\n",
    "for i in range(length // 2):\n",
    "    myList[i], myList[length - i - 1] = myList[length - i - 1], myList[i]\n",
    "    \n",
    "print(myList)\n"
   ]
  }
 ],
 "metadata": {
  "kernelspec": {
   "display_name": "Python 3",
   "language": "python",
   "name": "python3"
  },
  "language_info": {
   "codemirror_mode": {
    "name": "ipython",
    "version": 3
   },
   "file_extension": ".py",
   "mimetype": "text/x-python",
   "name": "python",
   "nbconvert_exporter": "python",
   "pygments_lexer": "ipython3",
   "version": "3.8.5"
  }
 },
 "nbformat": 4,
 "nbformat_minor": 4
}
