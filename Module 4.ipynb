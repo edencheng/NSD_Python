{
 "cells": [
  {
   "cell_type": "code",
   "execution_count": null,
   "metadata": {},
   "outputs": [],
   "source": [
    "x = 123456789\n",
    "print(x)"
   ]
  },
  {
   "cell_type": "code",
   "execution_count": null,
   "metadata": {},
   "outputs": [],
   "source": [
    "\n",
    "# An example code with repetitive task\n",
    "\n",
    "print(\"Enter a value: \")\n",
    "a = int(input())\n",
    "\n",
    "print(\"Enter a value: \")\n",
    "b = int(input())\n",
    "\n",
    "print(\"Enter a value: \")\n",
    "c = int(input())\n",
    "\n",
    "print()\n",
    "print(\"{} {} {}\" .format(a,b,c))\n"
   ]
  },
  {
   "cell_type": "code",
   "execution_count": null,
   "metadata": {},
   "outputs": [],
   "source": [
    "# Define a function for the repetitive task\n",
    "\n",
    "def message():\n",
    "    print(\"Enter a message: \")  \n",
    "\n",
    "message()\n",
    "a = input()\n",
    "message()\n",
    "b = input()\n",
    "message()\n",
    "c = input()\n",
    "\n",
    "print()\n",
    "print(\"{} {} {}\" .format(b,a,c))"
   ]
  },
  {
   "cell_type": "code",
   "execution_count": null,
   "metadata": {},
   "outputs": [],
   "source": [
    "def Yair(number):\n",
    "    print(\"Enter a number: \", number) \n",
    "\n",
    "number = 1234\n",
    "Yair(number)\n",
    "print(number)\n"
   ]
  },
  {
   "cell_type": "code",
   "execution_count": null,
   "metadata": {},
   "outputs": [],
   "source": [
    "a = 123\n",
    "b = \"Hello\"\n",
    "c = [10, 20]\n",
    "d = 1,2,3,4\n",
    "e = {\"Tavare\" : \"Tulloch\"}\n",
    "f = 10.23\n",
    "\n",
    "print(type(a))\n",
    "print(type(b))\n",
    "print(type(c))\n",
    "print(type(d))\n",
    "print(type(e))\n",
    "print(type(f))"
   ]
  },
  {
   "cell_type": "code",
   "execution_count": null,
   "metadata": {},
   "outputs": [],
   "source": [
    "# Note: When specifying one or more parameters in a function's definition, \n",
    "# it is also a requirement to fulfil it during the invocation.\n",
    "\n",
    "def message(number, letter): # The parameters number and letter live inside function\n",
    "    print(\"Enter a number and letter:\", number, letter)\n",
    "\n",
    "A = [10, \"Tavare\"]\n",
    "message(888, A, ) # The arguments exist outside the function and should fulfil the required argument of the function.\n"
   ]
  },
  {
   "cell_type": "code",
   "execution_count": null,
   "metadata": {},
   "outputs": [],
   "source": [
    "def message():\n",
    "    print(\"Enter a number and letter:\", number, letter)\n",
    "\n",
    "A = \"Something else\"\n",
    "message(1, A)"
   ]
  },
  {
   "cell_type": "code",
   "execution_count": null,
   "metadata": {},
   "outputs": [],
   "source": [
    "\n",
    "def message(num):\n",
    "    ax = \"AX\" # ax is only defined inside the function and only be used inside the function.\n",
    "    print(\"Enter a number:\", number, ax)\n",
    "\n",
    "number = 1234\n",
    "message(1)\n",
    "print(number)"
   ]
  },
  {
   "cell_type": "code",
   "execution_count": null,
   "metadata": {},
   "outputs": [],
   "source": [
    "# It's legal and possible to have a variable named the same as a function's parameter - it's called shadowing.\n",
    "# The parameter named name is a completely different entity from the variable named name.\n",
    "\n",
    "def boozhoo_name(name):\n",
    "    print('Boozhoo, {}'.format(name))\n",
    "\n",
    "name = 'Tavare'\n",
    "print(name)\n",
    "boozhoo_name('Issac')"
   ]
  },
  {
   "cell_type": "code",
   "execution_count": null,
   "metadata": {},
   "outputs": [],
   "source": [
    "# Another sample of a function called myFunction with three parameters.\n",
    "\n",
    "def myFunction(a=\"\", b=\"\", c=\"\"):\n",
    "    print(a, b, c)\n",
    "\n",
    "a = int(10)\n",
    "b = float(12.5)\n",
    "c = \"NSD\"\n",
    "myFunction(a,b,c)\n"
   ]
  },
  {
   "cell_type": "code",
   "execution_count": null,
   "metadata": {},
   "outputs": [],
   "source": [
    "# Another sample of a function called myFunction with three parameters.\n",
    "\n",
    "def introduction(sat, firstName, lastName):\n",
    "    print('Hello, my name is {} {} {}.'.format(sat, lastName, firstName))\n",
    "\n",
    "introduction(\"Mr.\",\"Luke\", \"Skywalker\")\n",
    "introduction(\"Ms\",\"Jesse\", \"Quick\")\n",
    "introduction(\"Mr\",\"Clark\", \"Kent\")"
   ]
  },
  {
   "cell_type": "code",
   "execution_count": null,
   "metadata": {},
   "outputs": [],
   "source": [
    "# Positional parameter passing\n",
    "\n",
    "# In some country, you should be called by your last name first. But the parameters were set differently,\n",
    "# use the format.\n",
    "\n",
    "def introduction(lastName, firstName):\n",
    "    print('Hello, my name is {} {}.'.format(firstName, lastName))\n",
    "\n",
    "introduction(\"Luke\", \"Skywalker\")\n",
    "introduction(\"Jesse\", \"Quick\")\n",
    "introduction(\"Clark\", \"Kent\")"
   ]
  },
  {
   "cell_type": "code",
   "execution_count": null,
   "metadata": {},
   "outputs": [],
   "source": [
    "# Keyword argument passing - the meaning of the the argument is dictated by its name\n",
    "\n",
    "def introduction(firstName, lastName):\n",
    "    print(\"Hello, my name is\", firstName, lastName)\n",
    "\n",
    "introduction(lastName = \"Bond\", firstName = \"James\")\n",
    "introduction(lastName = \"Skywalker\", firstName = \"Luke\")"
   ]
  },
  {
   "cell_type": "code",
   "execution_count": null,
   "metadata": {},
   "outputs": [],
   "source": [
    "#Keyword argument with default(predefined) values\n",
    "\n",
    "def introduction(firstName, lastName=\"Smith\"):\n",
    "    if firstName == \"Tavare\": #True\n",
    "        return print(\"No greetings for you\", firstName, lastName)\n",
    "    print(\"Hello,\", firstName, lastName)\n",
    "    \n",
    "introduction(\"Will\")\n",
    "introduction(\"Tarique\", \"Tulloch\")\n",
    "introduction(\"Joseph\", \"Cook\")"
   ]
  },
  {
   "cell_type": "code",
   "execution_count": null,
   "metadata": {},
   "outputs": [],
   "source": [
    "def happyNewYear(wishes = True):\n",
    "    print(\"Three...\")\n",
    "    print(\"Two...\")\n",
    "    print(\"One...\")\n",
    "    if not wishes:\n",
    "        return\n",
    "    \n",
    "    print(\"Happy New Year!\")\n",
    "\n",
    "happyNewYear(False)"
   ]
  },
  {
   "cell_type": "code",
   "execution_count": null,
   "metadata": {},
   "outputs": [],
   "source": [
    "def boringFunction():\n",
    "    print(\"'Boredom Mode' ON.\")\n",
    "    return 123\n",
    "    \n",
    "x = boringFunction()\n",
    "print(type(x))\n",
    "\n",
    "print(\"The boringFunction has returned its result. It's:\", x)\n",
    "\n"
   ]
  },
  {
   "cell_type": "code",
   "execution_count": null,
   "metadata": {},
   "outputs": [],
   "source": [
    "def boringFunction():\n",
    "    print(\"'Boredom Mode' ON.\")\n",
    "    return 123\n",
    "\n",
    "print(\"This lesson is interesting!\")\n",
    "bore = boringFunction()\n",
    "print(\"This lesson is boring...\", bore)\n",
    "\n",
    "print(bore)"
   ]
  },
  {
   "cell_type": "code",
   "execution_count": null,
   "metadata": {},
   "outputs": [],
   "source": [
    "def sumOfList(lst):\n",
    "    sum = 0\n",
    "    \n",
    "    for elem in lst:\n",
    "        sum += elem\n",
    "    \n",
    "    return sum\n",
    "\n",
    "print(sumOfList([5, 4, 3]))"
   ]
  },
  {
   "cell_type": "code",
   "execution_count": null,
   "metadata": {},
   "outputs": [],
   "source": [
    "def sumOfList(lst):\n",
    "    sum = 0\n",
    "    \n",
    "    for abcd in lst:\n",
    "        sum += abcd\n",
    "    \n",
    "    return sum\n",
    "\n",
    "print(sumOfList([5, 4, 3]))"
   ]
  },
  {
   "cell_type": "code",
   "execution_count": null,
   "metadata": {},
   "outputs": [],
   "source": [
    "def strangeListFunction(n):\n",
    "    strangeList = []\n",
    "    \n",
    "    for i in range(0, n):\n",
    "        strangeList.insert(n, i)\n",
    "    \n",
    "    return strangeList\n",
    "\n",
    "print(strangeListFunction(20))"
   ]
  },
  {
   "cell_type": "code",
   "execution_count": null,
   "metadata": {},
   "outputs": [],
   "source": [
    "def strangeListFunction(n):\n",
    "    strangeList = []\n",
    "    \n",
    "    for i in range(n):\n",
    "        i = i + 1\n",
    "        strangeList.append(i)\n",
    "    \n",
    "    return strangeList\n",
    "\n",
    "print(strangeListFunction(10))"
   ]
  },
  {
   "cell_type": "code",
   "execution_count": 2,
   "metadata": {},
   "outputs": [],
   "source": [
    "def scopeTest():\n",
    "    a = 123\n",
    "\n",
    "scopeTest()\n",
    "#print(a)"
   ]
  },
  {
   "cell_type": "code",
   "execution_count": null,
   "metadata": {},
   "outputs": [],
   "source": [
    "# A variable existing outside a function has a scope inside the functions' bodies.\n",
    "\n",
    "def myFunction():\n",
    "    var = 88\n",
    "    print(\"Do I know that variable?\", var)\n",
    "\n",
    "var = 100\n",
    "myFunction()\n",
    "print(var)"
   ]
  },
  {
   "cell_type": "code",
   "execution_count": null,
   "metadata": {},
   "outputs": [],
   "source": [
    "# A variable existing outside a function has a scope inside the functions' bodies, \n",
    "# excluding those of them which define a variable of the same name.\n",
    "\n",
    "def myFunction():\n",
    "    print(\"Do I know that variable?\", var)\n",
    "\n",
    "var = 1\n",
    "myFunction()\n",
    "print(var)"
   ]
  },
  {
   "cell_type": "code",
   "execution_count": null,
   "metadata": {},
   "outputs": [],
   "source": [
    "# A variable existing outside a function has a scope inside the functions' bodies, \n",
    "# excluding those of them which define a variable of the same name.\n",
    "\n",
    "def myFunction():\n",
    "    var = 2\n",
    "    print(\"Do I know that variable?\", var)\n",
    "\n",
    "var = 1\n",
    "myFunction()\n",
    "print(var)"
   ]
  },
  {
   "cell_type": "code",
   "execution_count": null,
   "metadata": {},
   "outputs": [],
   "source": [
    "# The global keyword\n",
    "\n",
    "def myFunction():\n",
    "    global var # it has a global scope, and it doesn't matter whether it's the subject of read or assign\n",
    "    var = 1\n",
    "    print(\"Do I know that variable?\", var)\n",
    "\n",
    "var = 2\n",
    "myFunction()\n",
    "print(var)"
   ]
  },
  {
   "cell_type": "code",
   "execution_count": 1,
   "metadata": {},
   "outputs": [
    {
     "name": "stdout",
     "output_type": "stream",
     "text": [
      "List inside the Function [2, 3, 4]\n",
      "List outside [4]\n"
     ]
    }
   ],
   "source": [
    "# if the argument is a list, then changing the value of the corresponding parameter doesn't affect the list\n",
    "# (remember: variables containing lists are stored in a different way than scalars - single value)\n",
    "\n",
    "# but if you change a list identified by the parameter (note: the list, not the parameter!), \n",
    "# the list will reflect the change.\n",
    "\n",
    "\n",
    "def myFunction(myList1):\n",
    "    print(\"List inside the Function\",myList1)\n",
    "    del myList1[0:2]\n",
    "\n",
    "myList2 = [2, 3, 4]\n",
    "myFunction(myList2)\n",
    "\n",
    "print(\"List outside\", myList2)"
   ]
  },
  {
   "cell_type": "code",
   "execution_count": null,
   "metadata": {},
   "outputs": [],
   "source": [
    "# if the argument is a list, then changing the value of the corresponding parameter doesn't affect the list\n",
    "# (remember: variables containing lists are stored in a different way than scalars - single value)\n",
    "\n",
    "# but if you change a list identified by the parameter (note: the list, not the parameter!), \n",
    "# the list will reflect the change.\n",
    "\n",
    "def myFunction(myList1):\n",
    "    print(\"List inside the Function\", myList1)\n",
    "    myList1 = [0, 1]\n",
    "    print(myList1)\n",
    "    \n",
    "myList2 = [2, 3]\n",
    "myFunction(myList2)\n",
    "\n",
    "print(\"List outside\", myList2)"
   ]
  },
  {
   "cell_type": "code",
   "execution_count": null,
   "metadata": {},
   "outputs": [],
   "source": [
    "# The assignment list2 = list1 copies the name of the array, not its contents.\n",
    "# In effect, the two names (list1) and (list2) identify the same location in the computer memory.\n",
    "# Modifying one of them affects the other, and vice versa.\n",
    "\n",
    "list1 = [1,10]\n",
    "list2 = list1\n",
    "list1[0] = 2 # changing the value of list1 index 0 which is currently 1 to become 2\n",
    "print(list2)"
   ]
  },
  {
   "cell_type": "code",
   "execution_count": null,
   "metadata": {},
   "outputs": [],
   "source": [
    "def myNameFunc(myName1):\n",
    "    print(myName1)\n",
    "    myName1 = myName1.upper()\n",
    "    print(myName1)\n",
    "\n",
    "myName2 = \"Tavare\"\n",
    "myNameFunc(myName2)\n",
    "print(myName2)"
   ]
  },
  {
   "cell_type": "code",
   "execution_count": 2,
   "metadata": {},
   "outputs": [
    {
     "name": "stdout",
     "output_type": "stream",
     "text": [
      "29.385\n",
      "29.384756657483933\n",
      "29.385\n"
     ]
    }
   ],
   "source": [
    "# Two parameters example\n",
    "\n",
    "def bmi(weight, height):\n",
    "    return weight / height ** 2\n",
    "a = bmi(80, 1.65)\n",
    "print(round(a, 3))\n",
    "print(a)\n",
    "print(\"{:.3f}\" .format(a))\n",
    "\n",
    "#print(bmi(80, 1.65))"
   ]
  },
  {
   "cell_type": "code",
   "execution_count": 5,
   "metadata": {},
   "outputs": [
    {
     "name": "stdout",
     "output_type": "stream",
     "text": [
      "None\n",
      "\n"
     ]
    }
   ],
   "source": [
    "def bmi(weight, height):\n",
    "    if height < 1.0 or height > 2.5 or \\\n",
    "    weight < 20 or weight > 200:\n",
    "        return None\n",
    "    \n",
    "    return weight / height ** 2\n",
    "\n",
    "print(bmi(0.5, 2))\n",
    "\n",
    "print()"
   ]
  },
  {
   "cell_type": "code",
   "execution_count": null,
   "metadata": {},
   "outputs": [],
   "source": [
    "tuple = (1,)\n",
    "print(type(tuple))"
   ]
  },
  {
   "cell_type": "code",
   "execution_count": null,
   "metadata": {},
   "outputs": [],
   "source": [
    "# Tuple is a sequence type like a List but immutable - means elements cannot be changed.\n",
    "\n",
    "tuple1 = (1, 2, 4, 8)\n",
    "tuple2 = 1., .5, .25, .125, 8\n",
    "tuple3 = 10,\n",
    "\n",
    "print(tuple1)\n",
    "print(tuple2)\n",
    "print(tuple3)\n",
    "\n",
    "print(type(tuple3))"
   ]
  },
  {
   "cell_type": "code",
   "execution_count": 9,
   "metadata": {},
   "outputs": [
    {
     "name": "stdout",
     "output_type": "stream",
     "text": [
      "1\n",
      "1000\n",
      "(1, 10, 100)\n",
      "(10, 100, 1000)\n",
      "(1, 10)\n",
      "1\n",
      "10\n",
      "100\n",
      "1000\n"
     ]
    }
   ],
   "source": [
    "myTuple = (1, 10, 100, 1000)\n",
    "\n",
    "#del myTuple[0:2]\n",
    "print(myTuple[0])\n",
    "print(myTuple[-1])\n",
    "print(myTuple[0:3])\n",
    "print(myTuple[1:])\n",
    "print(myTuple[:-2])\n",
    "\n",
    "for elem in myTuple:\n",
    "    print(elem)"
   ]
  },
  {
   "cell_type": "code",
   "execution_count": null,
   "metadata": {},
   "outputs": [],
   "source": [
    "myTuple = (1, 10, 100)\n",
    "\n",
    "t1 = myTuple + (1000, 10000)\n",
    "\n",
    "t2 = myTuple * (3)\n",
    "\n",
    "print(len(t2))\n",
    "print(t1)\n",
    "print(t2)\n",
    "print(10 in myTuple)\n",
    "print(-10 not in myTuple)\n",
    "\n",
    "for item_tup in t1:\n",
    "    if item_tup == 100:\n",
    "        print(item_tup)\n",
    "\n",
    "#Creating a List out of a Tuple\n",
    "item_list = []\n",
    "\n",
    "for item in t1:\n",
    "    item_list.append(item)\n",
    "print(item_list)\n",
    "print(type(item_list))\n",
    "    "
   ]
  },
  {
   "cell_type": "code",
   "execution_count": null,
   "metadata": {},
   "outputs": [],
   "source": [
    "a=1\n",
    "b=1,\n",
    "f=(1,)\n",
    "c=(1, 2,)\n",
    "d =[1, 2]\n"
   ]
  },
  {
   "cell_type": "code",
   "execution_count": null,
   "metadata": {},
   "outputs": [],
   "source": [
    "myTuple = [1, 10, 100, 1000]\n",
    "tuple2 = (123, 456)\n",
    "\n",
    "#myTuple.extend(tuple2)\n",
    "#del myTuple[0]\n",
    "myTuple[1] = -10\n",
    "\n",
    "print(myTuple)\n",
    "print(100 in myTuple)"
   ]
  },
  {
   "cell_type": "code",
   "execution_count": null,
   "metadata": {},
   "outputs": [],
   "source": [
    "# Non-sequence type and mutable\n",
    "# Dictionary is known as key-value pairs\n",
    "\n",
    "ip_address = {'G0/0' : \"192.168.1.10\", 'G0/1' : \"192.168.2.10\"}\n",
    "\n",
    "print(ip_address[\"G0/1\"])"
   ]
  },
  {
   "cell_type": "code",
   "execution_count": 10,
   "metadata": {},
   "outputs": [
    {
     "name": "stdout",
     "output_type": "stream",
     "text": [
      "chat\n",
      "cat -> chat\n",
      "lion is not in dictionary\n",
      "horse -> cheval\n"
     ]
    }
   ],
   "source": [
    "dict = {\"cat\" : \"chat\", \"dog\" : \"chien\", \"horse\" : \"cheval\"}\n",
    "\n",
    "print(dict[\"cat\"])\n",
    "\n",
    "\n",
    "words = ['cat', 'lion', 'horse']\n",
    "\n",
    "for eng in words:\n",
    "    if eng in dict:\n",
    "        print(eng, \"->\", dict[eng])\n",
    "    else:\n",
    "            print(eng, \"is not in dictionary\")"
   ]
  },
  {
   "cell_type": "code",
   "execution_count": 17,
   "metadata": {},
   "outputs": [
    {
     "name": "stdout",
     "output_type": "stream",
     "text": [
      "192.168.1.10\n",
      "192.168.1.11\n"
     ]
    }
   ],
   "source": [
    "dict = {\"R2\" : \"192.168.1.10\", \"R3\" : \"192.168.1.11\", \"S1\" : \"192.168.88.1\", \"S2\" : \"192.168.88.2\"}\n",
    "\n",
    "words = ['R2', 'R3', 'S1']\n",
    "\n",
    "for device in (dict.keys()):  \n",
    "    if device.startswith(\"R\"):\n",
    "        print(dict[device])"
   ]
  },
  {
   "cell_type": "code",
   "execution_count": null,
   "metadata": {
    "scrolled": true
   },
   "outputs": [],
   "source": [
    "dict = {\"cat\" : \"chat\", \"dog\" : \"chien\", \"horse\" : \"cheval\"}\n",
    "\n",
    "for english, french in dict.items():\n",
    "    print(english, \"->\", french)"
   ]
  },
  {
   "cell_type": "code",
   "execution_count": 12,
   "metadata": {},
   "outputs": [
    {
     "name": "stdout",
     "output_type": "stream",
     "text": [
      "horse -> cheval\n",
      "dog -> chien\n",
      "cat -> chat\n"
     ]
    }
   ],
   "source": [
    "dict = {\"cat\" : \"chat\", \"horse\" : \"cheval\", \"dog\" : \"chien\"}\n",
    "\n",
    "for key in sorted(dict.keys(), reverse=True):\n",
    "    print(key, \"->\", dict[key])"
   ]
  },
  {
   "cell_type": "code",
   "execution_count": null,
   "metadata": {},
   "outputs": [],
   "source": [
    "dict = {\"cat\" : \"chat\", \"dog\" : \"chien\", \"horse\" : \"cheval\"}\n",
    "\n",
    "for french in dict.values():\n",
    "    print(french)"
   ]
  },
  {
   "cell_type": "code",
   "execution_count": null,
   "metadata": {},
   "outputs": [],
   "source": [
    "# Changing the value of a dictionary\n",
    "\n",
    "dict = {\"cat\" : \"chat\", \"dog\" : \"chien\", \"horse\" : \"cheval\"}\n",
    "\n",
    "dict[\"horse\"] = \"minou\"\n",
    "print(dict)"
   ]
  },
  {
   "cell_type": "code",
   "execution_count": null,
   "metadata": {},
   "outputs": [],
   "source": [
    "dict = {\"cat\" : \"chat\", \"dog\" : \"chien\", \"horse\" : \"cheval\"}\n",
    "\n",
    "dict[\"another_key\"] = \"key_value2\" # adding a pair\n",
    "dict[\"cat\"] = \"cat2\" # changing the value\n",
    "print(dict)"
   ]
  },
  {
   "cell_type": "code",
   "execution_count": null,
   "metadata": {},
   "outputs": [],
   "source": [
    "dict = {\"cat\" : \"chat\", \"dog\" : \"chien\", \"horse\" : \"cheval\"}\n",
    "\n",
    "dict.update({\"duck\" : \"canard2\"})\n",
    "print(dict)\n"
   ]
  },
  {
   "cell_type": "code",
   "execution_count": null,
   "metadata": {},
   "outputs": [],
   "source": [
    "dict = {\"cat\" : \"chat\", \"dog\" : \"chien\", \"horse\" : \"cheval\"}\n",
    "\n",
    "del dict[\"dog\"]\n",
    "print(dict)"
   ]
  },
  {
   "cell_type": "code",
   "execution_count": null,
   "metadata": {},
   "outputs": [],
   "source": [
    "schoolClass = {}\n",
    "\n",
    "while True:\n",
    "    name = input(\"Enter the student's name (or type exit to stop): \")\n",
    "    if name == 'exit':\n",
    "        break\n",
    "    \n",
    "    score = int(input(\"Enter the student's score (0-10): \"))\n",
    "    \n",
    "    if name in schoolClass:\n",
    "        schoolClass[name] += (score,)\n",
    "    else:\n",
    "        schoolClass[name] = (score,)\n",
    "        \n",
    "for name in sorted(schoolClass.keys()):\n",
    "    sum = 0\n",
    "    counter = 0\n",
    "    for score in schoolClass[name]:\n",
    "        sum += score\n",
    "        counter += 1\n",
    "    print(name, \":\", sum / counter)\n",
    "\n",
    "# Tuples and dictionaries can work together\n",
    "\n",
    "# We've prepared a simple example, showing how tuples and dictionaries can work together.\n",
    "\n",
    "# Let's imagine the following problem:\n",
    "\n",
    "#     you need a program to evaluate the students' average scores;\n",
    "#     the program should ask for the student's name, followed by her/his single score;\n",
    "#     the names may be entered in any order;\n",
    "#     entering an empty name finishes the inputting of the data;\n",
    "#     a list of all names, together with the evaluated average score, should be then emitted.\n",
    "\n",
    "# Look at the code in the editor. This how to do it.\n",
    "\n",
    "# Now, let's analyze it line by line:\n",
    "\n",
    "#     line 1: create an empty dictionary for the input data; the student's name is used as a key, while all the associated scores are stored in a tuple (the tuple may be a dictionary value - that's not a problem at all)\n",
    "#     line 3: enter an \"infinite\" loop (don't worry, it'll break at the right moment)\n",
    "#     line 4: read the student's name here;\n",
    "#     line 5-6: if the name is exit, leave the loop;\n",
    "#     line 8: ask for one of the student's scores (an integer from the range 1-10)\n",
    "#     line 10-11: if the student's name is already in the dictionary, lengthen the associated tuple with the new score (note the += operator)\n",
    "#     line 12-13: if this is a new student (unknown to the dictionary), create a new entry - its value is a one-element tuple containing the entered score;\n",
    "#     line 15: iterate through the sorted students' names;\n",
    "#     line 16-17: initialize the data needed to evaluate the average (sum and counter)\n",
    "#     line 18-20: we iterate through the tuple, taking all the subsequent scores and updating the sum, together with the counter;\n",
    "#     line 21: evaluate and print the student's name and average score.\n"
   ]
  },
  {
   "cell_type": "code",
   "execution_count": null,
   "metadata": {},
   "outputs": [],
   "source": [
    "lst = [[x for x in range(3)] for y in range(3)]\n",
    "\n",
    "for r in range(3):\n",
    "    for c in range(3):\n",
    "        if lst [r][c] % 2 != 0:\n",
    "            print(\"#\")"
   ]
  },
  {
   "cell_type": "code",
   "execution_count": null,
   "metadata": {},
   "outputs": [],
   "source": [
    "tup = (1, 2, 4, 8)\n",
    "tup = tup[-2:-1]\n",
    "tup = tup[-1]\n",
    "print(tup)\n",
    "print(2 % 2)"
   ]
  },
  {
   "cell_type": "code",
   "execution_count": null,
   "metadata": {},
   "outputs": [],
   "source": [
    "def fun(x):\n",
    "    if x % 2 == 0:\n",
    "        return 1\n",
    "    else:\n",
    "        return 2\n",
    "print(fun(fun(2)))\n",
    "\n",
    "nums = [1, 2, 3]\n",
    "vals = nums\n",
    "del vals[:]\n",
    "print(nums)\n",
    "\n",
    "print([i for i in range(-1, -2)])\n",
    "\n",
    "def fun(x, y):\n",
    "    if x == y:\n",
    "        return x\n",
    "    else:\n",
    "        return fun(x, y-1)\n",
    "print(fun(0, 3))\n",
    "\n",
    "dct = {}\n",
    "dct['1'] = (1, 2)\n",
    "dct[\"2\"] = (2, 1)\n",
    "\n",
    "for x in dct.keys():\n",
    "    print(dct[x][1], end = \"\")\n",
    "    \n",
    "\n",
    "tuple = [10, 20, 40]\n",
    "\n",
    "tuple[0]= tuple[1] + tuple[0]\n",
    "\n",
    "print(tuple)\n"
   ]
  },
  {
   "cell_type": "code",
   "execution_count": null,
   "metadata": {},
   "outputs": [],
   "source": []
  }
 ],
 "metadata": {
  "kernelspec": {
   "display_name": "Python 3",
   "language": "python",
   "name": "python3"
  },
  "language_info": {
   "codemirror_mode": {
    "name": "ipython",
    "version": 3
   },
   "file_extension": ".py",
   "mimetype": "text/x-python",
   "name": "python",
   "nbconvert_exporter": "python",
   "pygments_lexer": "ipython3",
   "version": "3.8.5"
  }
 },
 "nbformat": 4,
 "nbformat_minor": 4
}
