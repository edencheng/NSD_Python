{
 "cells": [
  {
   "cell_type": "code",
   "execution_count": null,
   "metadata": {},
   "outputs": [],
   "source": [
    "country = [ \n",
    "            \"Brazil\",\n",
    "            \"Russia\",\n",
    "            \"India\",\n",
    "            \"China\",\n",
    "            \"South Africa\"\n",
    "            ]\n",
    "\n",
    "\n",
    "capital = {\n",
    "            \"Brazil\": \"Brasilia\" , \n",
    "            \"Russia\": \"Moscow\", \n",
    "            \"India\": \"New Delhi\", \n",
    "            \"China\":\"Beijing\", \n",
    "            \"South Africa\" : [\n",
    "                                \"Pretoria\", \n",
    "                                \"Cape Town\", \n",
    "                                \"Bloemfontein\"\n",
    "                            ]\n",
    "            }\n",
    "\n",
    "\n",
    "#Print the list and dictionary\n",
    "\n",
    "print(country)\n",
    "for i in capital.keys():\n",
    "    print(i,\":\", capital[i])\n",
    "\n"
   ]
  },
  {
   "cell_type": "code",
   "execution_count": null,
   "metadata": {},
   "outputs": [],
   "source": [
    "y = {\n",
    "  \"ietf-interfaces:interfaces\": {\n",
    "    \"interface\": [\n",
    "      {\n",
    "        \"name\": \"GigabitEthernet1\",\n",
    "        \"description\": \"VBox\",\n",
    "        \"type\": \"iana-if-type:ethernetCsmacd\",\n",
    "        \"enabled\": \"true\",\n",
    "        \"ietf-ip:ipv4\": {},\n",
    "        \"ietf-ip:ipv6\": {}\n",
    "      },\n",
    "      {\n",
    "        \"name\": \"Loopback0\",\n",
    "        \"description\": \"This is test Loopback\",\n",
    "        \"type\": \"iana-if-type:softwareLoopback\",\n",
    "        \"enabled\": \"true\",\n",
    "        \"ietf-ip:ipv4\": {\n",
    "          \"address\": [\n",
    "            {\n",
    "              \"ip\": \"172.16.16.1\",\n",
    "              \"netmask\": \"255.255.255.0\"\n",
    "            }\n",
    "          ]\n",
    "        },\n",
    "        \"ietf-ip:ipv6\": {}\n",
    "      }\n",
    "    ]\n",
    "  }\n",
    "}\n",
    "print(y[\"ietf-interfaces:interfaces\"][\"interface\"][1][\"ietf-ip:ipv4\"])\n",
    "print()\n",
    "print(y[\"ietf-interfaces:interfaces\"][\"interface\"][1][\"ietf-ip:ipv4\"][\"address\"][0])\n",
    "print()\n",
    "print(y[\"ietf-interfaces:interfaces\"][\"interface\"][1][\"ietf-ip:ipv4\"][\"address\"][0][\"ip\"])\n"
   ]
  },
  {
   "cell_type": "code",
   "execution_count": null,
   "metadata": {},
   "outputs": [],
   "source": [
    "import math\n",
    "for name in dir(math):\n",
    "    print(name,end = \",\")\n",
    "\n",
    "print(\"\\n\\n\", math.sin(0))"
   ]
  },
  {
   "cell_type": "code",
   "execution_count": 1,
   "metadata": {},
   "outputs": [
    {
     "ename": "NameError",
     "evalue": "name 'math' is not defined",
     "output_type": "error",
     "traceback": [
      "\u001b[1;31m---------------------------------------------------------------------------\u001b[0m",
      "\u001b[1;31mNameError\u001b[0m                                 Traceback (most recent call last)",
      "\u001b[1;32m<ipython-input-1-7f77e3a30fef>\u001b[0m in \u001b[0;36m<module>\u001b[1;34m\u001b[0m\n\u001b[0;32m      1\u001b[0m \u001b[1;32mfrom\u001b[0m \u001b[0mmath\u001b[0m \u001b[1;32mimport\u001b[0m \u001b[0mpi\u001b[0m\u001b[1;33m\u001b[0m\u001b[1;33m\u001b[0m\u001b[0m\n\u001b[0;32m      2\u001b[0m \u001b[1;33m\u001b[0m\u001b[0m\n\u001b[1;32m----> 3\u001b[1;33m \u001b[0mprint\u001b[0m\u001b[1;33m(\u001b[0m\u001b[0mmath\u001b[0m\u001b[1;33m.\u001b[0m\u001b[0mpi\u001b[0m\u001b[1;33m)\u001b[0m\u001b[1;33m\u001b[0m\u001b[1;33m\u001b[0m\u001b[0m\n\u001b[0m\u001b[0;32m      4\u001b[0m \u001b[0mprint\u001b[0m\u001b[1;33m(\u001b[0m\u001b[1;34m\"\\n\\n\"\u001b[0m\u001b[1;33m,\u001b[0m \u001b[0mmath\u001b[0m\u001b[1;33m.\u001b[0m\u001b[0msin\u001b[0m\u001b[1;33m(\u001b[0m\u001b[1;36m0\u001b[0m\u001b[1;33m)\u001b[0m\u001b[1;33m)\u001b[0m\u001b[1;33m\u001b[0m\u001b[1;33m\u001b[0m\u001b[0m\n",
      "\u001b[1;31mNameError\u001b[0m: name 'math' is not defined"
     ]
    }
   ],
   "source": [
    "from math import pi\n",
    "\n",
    "print(math.pi)\n",
    "print(\"\\n\\n\", math.sin(0))"
   ]
  },
  {
   "cell_type": "code",
   "execution_count": 4,
   "metadata": {},
   "outputs": [
    {
     "name": "stdout",
     "output_type": "stream",
     "text": [
      "1.5707963267948966\n",
      "0.99999999\n",
      "1.0\n"
     ]
    }
   ],
   "source": [
    "import math\n",
    "\n",
    "def sin(x):\n",
    "    if 2*x ==pi:\n",
    "        return 0.99999999\n",
    "    else:\n",
    "        return None\n",
    "    \n",
    "pi = 3.14\n",
    "\n",
    "print(math.pi/2)\n",
    "print(sin(pi/2))\n",
    "print(math.sin(math.pi/2))"
   ]
  },
  {
   "cell_type": "code",
   "execution_count": 5,
   "metadata": {},
   "outputs": [
    {
     "name": "stdout",
     "output_type": "stream",
     "text": [
      "0.99999999\n",
      "1.0\n"
     ]
    }
   ],
   "source": [
    "pi = 3.14\t# line 01\n",
    "\n",
    "def sin(x):\n",
    "    if 2 * x == pi:\n",
    "        return 0.99999999\n",
    "    else:\n",
    "        return None\t# line 07\n",
    "\n",
    "print(sin(pi/2))\t# line 09\n",
    "\n",
    "\n",
    "from math import sin, pi\t# line 12\n",
    "\n",
    "print(sin(pi/2))\t# line 14\n"
   ]
  },
  {
   "cell_type": "code",
   "execution_count": 6,
   "metadata": {},
   "outputs": [
    {
     "name": "stdout",
     "output_type": "stream",
     "text": [
      "1.0\n"
     ]
    }
   ],
   "source": [
    "import math as m\n",
    "print(m.sin(m.pi/2))"
   ]
  },
  {
   "cell_type": "code",
   "execution_count": 17,
   "metadata": {},
   "outputs": [
    {
     "name": "stdout",
     "output_type": "stream",
     "text": [
      "s\n",
      "spanning-tree mode rapid-pvst\n",
      "\n",
      "clock timezone cdt -6\n",
      "ntp server 216.197.156.83\n",
      "ntp update-calendar\n",
      "\n",
      "clock timezone cdt -6\n",
      "clock summer-time DST recurring\n",
      "service timestamps debug datetime msec localtime \n",
      "service timestamps log datetime msec localtime\n",
      "\n",
      "vlan 100\n",
      " name Data\n",
      "vlan 101\n",
      " name Voice\n",
      "vlan 102\n",
      " name Test \n",
      "\n",
      "interface vlan 1\n",
      " description In-band Management\n",
      "\n",
      "ip default-gateway 192.168.0.1\n",
      "ip dhcp snooping vlan 100,101\n",
      "\n",
      "no ip dhcp snooping information option \n",
      "ip dhcp snooping\n",
      "ip arp inspection vlan 100,101\n",
      "spanning-tree portfast bpduguard default\n",
      "\n",
      "interface range GigabitEthernet 2/0 - 3\n",
      " switchport\n",
      " switchport access vlan 100\n",
      " switchport voice vlan 101\n",
      " switchport host\n",
      " switchport port-security maximum 2 \n",
      " switchport port-security\n",
      " switchport port-security aging time 2\n",
      " switchport port-security aging type inactivity \n",
      " switchport port-security violation restrict \n",
      " ip arp inspection limit rate 100\n",
      " ip dhcp snooping limit rate 100\n",
      " ip verify source\n",
      "\n"
     ]
    }
   ],
   "source": [
    "f = open(\"D:\\\\Network Security Diploma\\\\Python Scripting\\\\software\\\\base_config\") \n",
    "#can simplify to f=open(\"base_config\") if under same work folder\n",
    "\n",
    "contents = f.read()\n",
    "print(contents[0])\n",
    "print(contents)"
   ]
  },
  {
   "cell_type": "code",
   "execution_count": 18,
   "metadata": {},
   "outputs": [
    {
     "name": "stdout",
     "output_type": "stream",
     "text": [
      "spanning-tree mode rapid-pvst\n",
      "\n",
      "spanning-tree mode rapid-pvst\n",
      "\n",
      "\n",
      "\n",
      "clock timezone cdt -6\n",
      "\n",
      "ntp server 216.197.156.83\n",
      "\n",
      "ntp update-calendar\n",
      "\n",
      "\n",
      "\n",
      "clock timezone cdt -6\n",
      "\n",
      "clock summer-time DST recurring\n",
      "\n",
      "service timestamps debug datetime msec localtime \n",
      "\n",
      "service timestamps log datetime msec localtime\n",
      "\n",
      "\n",
      "\n",
      "vlan 100\n",
      "\n",
      " name Data\n",
      "\n",
      "vlan 101\n",
      "\n",
      " name Voice\n",
      "\n",
      "vlan 102\n",
      "\n",
      " name Test \n",
      "\n",
      "\n",
      "\n",
      "interface vlan 1\n",
      "\n",
      " description In-band Management\n",
      "\n",
      "\n",
      "\n",
      "ip default-gateway 192.168.0.1\n",
      "\n",
      "ip dhcp snooping vlan 100,101\n",
      "\n",
      "\n",
      "\n",
      "no ip dhcp snooping information option \n",
      "\n",
      "ip dhcp snooping\n",
      "\n",
      "ip arp inspection vlan 100,101\n",
      "\n",
      "spanning-tree portfast bpduguard default\n",
      "\n",
      "\n",
      "\n",
      "interface range GigabitEthernet 2/0 - 3\n",
      "\n",
      " switchport\n",
      "\n",
      " switchport access vlan 100\n",
      "\n",
      " switchport voice vlan 101\n",
      "\n",
      " switchport host\n",
      "\n",
      " switchport port-security maximum 2 \n",
      "\n",
      " switchport port-security\n",
      "\n",
      " switchport port-security aging time 2\n",
      "\n",
      " switchport port-security aging type inactivity \n",
      "\n",
      " switchport port-security violation restrict \n",
      "\n",
      " ip arp inspection limit rate 100\n",
      "\n",
      " ip dhcp snooping limit rate 100\n",
      "\n",
      " ip verify source\n",
      "\n"
     ]
    }
   ],
   "source": [
    "f = open(\"D:\\\\Network Security Diploma\\\\Python Scripting\\\\software\\\\base_config\") \n",
    "file_as_list = f.readlines()\n",
    "\n",
    "print(file_as_list[0])\n",
    "for line in file_as_list:\n",
    "    print(line)\n",
    "\n",
    "f.close()"
   ]
  },
  {
   "cell_type": "code",
   "execution_count": 15,
   "metadata": {},
   "outputs": [
    {
     "name": "stdout",
     "output_type": "stream",
     "text": [
      "spanning-tree mode rapid-pvst\n",
      "\n",
      "clock timezone cdt -6\n",
      "ntp server 216.197.156.83\n",
      "ntp update-calendar\n",
      "\n",
      "clock timezone cdt -6\n",
      "clock summer-time DST recurring\n",
      "service timestamps debug datetime msec localtime \n",
      "service timestamps log datetime msec localtime\n",
      "\n",
      "vlan 100\n",
      " name Data\n",
      "vlan 101\n",
      " name Voice\n",
      "vlan 102\n",
      " name Test \n",
      "\n",
      "interface vlan 1\n",
      " description In-band Management\n",
      "\n",
      "ip default-gateway 192.168.0.1\n",
      "ip dhcp snooping vlan 100,101\n",
      "\n",
      "no ip dhcp snooping information option \n",
      "ip dhcp snooping\n",
      "ip arp inspection vlan 100,101\n",
      "spanning-tree portfast bpduguard default\n",
      "\n",
      "interface range GigabitEthernet 2/0 - 3\n",
      " switchport\n",
      " switchport access vlan 100\n",
      " switchport voice vlan 101\n",
      " switchport host\n",
      " switchport port-security maximum 2 \n",
      " switchport port-security\n",
      " switchport port-security aging time 2\n",
      " switchport port-security aging type inactivity \n",
      " switchport port-security violation restrict \n",
      " ip arp inspection limit rate 100\n",
      " ip dhcp snooping limit rate 100\n",
      " ip verify source\n"
     ]
    }
   ],
   "source": [
    "# One solution to remove the newline is to pass an empty string\n",
    "\n",
    "f = open(\"D:\\\\Network Security Diploma\\\\Python Scripting\\\\software\\\\base_config\")\n",
    "file_as_list = f.readlines()\n",
    "for line in file_as_list:\n",
    "  print(line, end=\"\")\n"
   ]
  },
  {
   "cell_type": "code",
   "execution_count": 16,
   "metadata": {},
   "outputs": [
    {
     "name": "stdout",
     "output_type": "stream",
     "text": [
      "spanning-tree mode rapid-pvst\n",
      "\n",
      "clock timezone cdt -6\n",
      "ntp server 216.197.156.83\n",
      "ntp update-calendar\n",
      "\n",
      "clock timezone cdt -6\n",
      "clock summer-time DST recurring\n",
      "service timestamps debug datetime msec localtime \n",
      "service timestamps log datetime msec localtime\n",
      "\n",
      "vlan 100\n",
      " name Data\n",
      "vlan 101\n",
      " name Voice\n",
      "vlan 102\n",
      " name Test \n",
      "\n",
      "interface vlan 1\n",
      " description In-band Management\n",
      "\n",
      "ip default-gateway 192.168.0.1\n",
      "ip dhcp snooping vlan 100,101\n",
      "\n",
      "no ip dhcp snooping information option \n",
      "ip dhcp snooping\n",
      "ip arp inspection vlan 100,101\n",
      "spanning-tree portfast bpduguard default\n",
      "\n",
      "interface range GigabitEthernet 2/0 - 3\n",
      " switchport\n",
      " switchport access vlan 100\n",
      " switchport voice vlan 101\n",
      " switchport host\n",
      " switchport port-security maximum 2 \n",
      " switchport port-security\n",
      " switchport port-security aging time 2\n",
      " switchport port-security aging type inactivity \n",
      " switchport port-security violation restrict \n",
      " ip arp inspection limit rate 100\n",
      " ip dhcp snooping limit rate 100\n",
      " ip verify source\n"
     ]
    }
   ],
   "source": [
    "#Another solution is use read() combined with splilines() instead of readlines()\n",
    "\n",
    "f = open(\"D:\\\\Network Security Diploma\\\\Python Scripting\\\\software\\\\base_config\")\n",
    "contents = f.read()\n",
    "file_as_list = contents.splitlines()\n",
    "for line in file_as_list:\n",
    "  print(line)\n",
    "f.close()\n"
   ]
  },
  {
   "cell_type": "code",
   "execution_count": 19,
   "metadata": {},
   "outputs": [
    {
     "name": "stdout",
     "output_type": "stream",
     "text": [
      "[1, 1, 1, 2]\n"
     ]
    }
   ],
   "source": [
    "mylist = [1,2]\n",
    "for v in range (2):\n",
    "    mylist.insert(-1,mylist[v])\n",
    "    \n",
    "print(mylist)"
   ]
  },
  {
   "cell_type": "code",
   "execution_count": 23,
   "metadata": {},
   "outputs": [
    {
     "name": "stdout",
     "output_type": "stream",
     "text": [
      "[0, 1, 2, 3, 4]\n"
     ]
    }
   ],
   "source": [
    "lst = [i for i in range(5)]\n",
    "\n",
    "print(lst)"
   ]
  },
  {
   "cell_type": "code",
   "execution_count": 24,
   "metadata": {},
   "outputs": [
    {
     "name": "stdout",
     "output_type": "stream",
     "text": [
      "21"
     ]
    }
   ],
   "source": [
    "dict = {}\n",
    "dict[\"1\"] = (1,2)\n",
    "dict[\"2\"] = (2,1)\n",
    "\n",
    "for x in dict.keys():\n",
    "    print(dict[x][1],end=\"\")"
   ]
  },
  {
   "cell_type": "code",
   "execution_count": 25,
   "metadata": {},
   "outputs": [
    {
     "name": "stdout",
     "output_type": "stream",
     "text": [
      "asepbsepc\n"
     ]
    }
   ],
   "source": [
    "print(\"a\",\"b\",\"c\", sep=\"sep\")"
   ]
  },
  {
   "cell_type": "code",
   "execution_count": 28,
   "metadata": {},
   "outputs": [
    {
     "ename": "SyntaxError",
     "evalue": "invalid syntax (<ipython-input-28-81f53e965cc1>, line 3)",
     "output_type": "error",
     "traceback": [
      "\u001b[1;36m  File \u001b[1;32m\"<ipython-input-28-81f53e965cc1>\"\u001b[1;36m, line \u001b[1;32m3\u001b[0m\n\u001b[1;33m    for = 123\u001b[0m\n\u001b[1;37m        ^\u001b[0m\n\u001b[1;31mSyntaxError\u001b[0m\u001b[1;31m:\u001b[0m invalid syntax\n"
     ]
    }
   ],
   "source": [
    "#in = 123\n",
    "#print = 123\n",
    "for = 123"
   ]
  },
  {
   "cell_type": "code",
   "execution_count": 31,
   "metadata": {},
   "outputs": [
    {
     "ename": "TypeError",
     "evalue": "unsupported operand type(s) for *: 'NoneType' and 'NoneType'",
     "output_type": "error",
     "traceback": [
      "\u001b[1;31m---------------------------------------------------------------------------\u001b[0m",
      "\u001b[1;31mTypeError\u001b[0m                                 Traceback (most recent call last)",
      "\u001b[1;32m<ipython-input-31-60a0981d0f45>\u001b[0m in \u001b[0;36m<module>\u001b[1;34m\u001b[0m\n\u001b[0;32m      5\u001b[0m     \u001b[1;32mreturn\u001b[0m \u001b[0mfun\u001b[0m\u001b[1;33m(\u001b[0m\u001b[0ms\u001b[0m\u001b[1;33m)\u001b[0m\u001b[1;33m*\u001b[0m\u001b[0mfun\u001b[0m\u001b[1;33m(\u001b[0m\u001b[0ms\u001b[0m\u001b[1;33m)\u001b[0m\u001b[1;33m\u001b[0m\u001b[1;33m\u001b[0m\u001b[0m\n\u001b[0;32m      6\u001b[0m \u001b[1;33m\u001b[0m\u001b[0m\n\u001b[1;32m----> 7\u001b[1;33m \u001b[0mprint\u001b[0m\u001b[1;33m(\u001b[0m\u001b[0mfun1\u001b[0m\u001b[1;33m(\u001b[0m\u001b[1;36m2\u001b[0m\u001b[1;33m)\u001b[0m\u001b[1;33m)\u001b[0m\u001b[1;33m\u001b[0m\u001b[1;33m\u001b[0m\u001b[0m\n\u001b[0m",
      "\u001b[1;32m<ipython-input-31-60a0981d0f45>\u001b[0m in \u001b[0;36mfun1\u001b[1;34m(s)\u001b[0m\n\u001b[0;32m      3\u001b[0m \u001b[1;33m\u001b[0m\u001b[0m\n\u001b[0;32m      4\u001b[0m \u001b[1;32mdef\u001b[0m \u001b[0mfun1\u001b[0m\u001b[1;33m(\u001b[0m\u001b[0ms\u001b[0m\u001b[1;33m)\u001b[0m\u001b[1;33m:\u001b[0m\u001b[1;33m\u001b[0m\u001b[1;33m\u001b[0m\u001b[0m\n\u001b[1;32m----> 5\u001b[1;33m     \u001b[1;32mreturn\u001b[0m \u001b[0mfun\u001b[0m\u001b[1;33m(\u001b[0m\u001b[0ms\u001b[0m\u001b[1;33m)\u001b[0m\u001b[1;33m*\u001b[0m\u001b[0mfun\u001b[0m\u001b[1;33m(\u001b[0m\u001b[0ms\u001b[0m\u001b[1;33m)\u001b[0m\u001b[1;33m\u001b[0m\u001b[1;33m\u001b[0m\u001b[0m\n\u001b[0m\u001b[0;32m      6\u001b[0m \u001b[1;33m\u001b[0m\u001b[0m\n\u001b[0;32m      7\u001b[0m \u001b[0mprint\u001b[0m\u001b[1;33m(\u001b[0m\u001b[0mfun1\u001b[0m\u001b[1;33m(\u001b[0m\u001b[1;36m2\u001b[0m\u001b[1;33m)\u001b[0m\u001b[1;33m)\u001b[0m\u001b[1;33m\u001b[0m\u001b[1;33m\u001b[0m\u001b[0m\n",
      "\u001b[1;31mTypeError\u001b[0m: unsupported operand type(s) for *: 'NoneType' and 'NoneType'"
     ]
    }
   ],
   "source": [
    "def fun(d):\n",
    "    return None\n",
    "\n",
    "def fun1(s):\n",
    "    return fun(s)*fun(s)\n",
    "\n",
    "print(fun1(2))"
   ]
  },
  {
   "cell_type": "code",
   "execution_count": 35,
   "metadata": {},
   "outputs": [
    {
     "name": "stdout",
     "output_type": "stream",
     "text": [
      "1\n"
     ]
    }
   ],
   "source": [
    "a=1\n",
    "b=0\n",
    "a=a^b\n",
    "\n",
    "print(a)"
   ]
  },
  {
   "cell_type": "code",
   "execution_count": 50,
   "metadata": {},
   "outputs": [
    {
     "name": "stdout",
     "output_type": "stream",
     "text": [
      "[[0, 1, 2], [0, 1, 2], [0, 1, 2]]\n",
      "r=: 0 and c=: 0\n",
      "r=: 0 and c=: 1\n",
      "#\n",
      "r=: 0 and c=: 2\n",
      "r=: 1 and c=: 0\n",
      "r=: 1 and c=: 1\n",
      "#\n",
      "r=: 1 and c=: 2\n",
      "r=: 2 and c=: 0\n",
      "r=: 2 and c=: 1\n",
      "#\n",
      "r=: 2 and c=: 2\n"
     ]
    }
   ],
   "source": [
    "lst = [[x for x in range(3)] for y in range(3)]\n",
    "\n",
    "print(lst)\n",
    "for r in range(3):\n",
    "    for c in range(3):\n",
    "        print(\"r=:\",r ,\"and\" ,\"c=:\",c)\n",
    "        if lst[r][c] %2 != 0:\n",
    "            print(\"#\")\n",
    "        "
   ]
  },
  {
   "cell_type": "code",
   "execution_count": 39,
   "metadata": {},
   "outputs": [
    {
     "name": "stdout",
     "output_type": "stream",
     "text": [
      "1 1 2\n"
     ]
    }
   ],
   "source": [
    "x = 1\n",
    "y = 2\n",
    "x,y,z = x,x,y\n",
    "z,y,z,= x,y,z\n",
    "\n",
    "print (x,y,z)"
   ]
  },
  {
   "cell_type": "code",
   "execution_count": 40,
   "metadata": {},
   "outputs": [
    {
     "name": "stdout",
     "output_type": "stream",
     "text": [
      "0\n"
     ]
    }
   ],
   "source": [
    "def fun(x,y):\n",
    "    if x == y:\n",
    "        return x\n",
    "    else:\n",
    "        return fun(x,y-1)\n",
    "    \n",
    "print(fun(0,3))"
   ]
  },
  {
   "cell_type": "code",
   "execution_count": 42,
   "metadata": {},
   "outputs": [
    {
     "name": "stdout",
     "output_type": "stream",
     "text": [
      "[]\n",
      "[]\n"
     ]
    }
   ],
   "source": [
    "num = [1,2,3]\n",
    "val = num\n",
    "del val[:]\n",
    "\n",
    "print(num)\n",
    "print(val)"
   ]
  },
  {
   "cell_type": "code",
   "execution_count": 43,
   "metadata": {},
   "outputs": [
    {
     "name": "stdout",
     "output_type": "stream",
     "text": [
      "3\n",
      "<class 'str'>\n"
     ]
    }
   ],
   "source": [
    "x = input()\n",
    "print(type(x))"
   ]
  },
  {
   "cell_type": "code",
   "execution_count": 44,
   "metadata": {},
   "outputs": [
    {
     "name": "stdout",
     "output_type": "stream",
     "text": [
      "0\n"
     ]
    }
   ],
   "source": [
    "print(1//2)"
   ]
  },
  {
   "cell_type": "code",
   "execution_count": null,
   "metadata": {},
   "outputs": [],
   "source": []
  }
 ],
 "metadata": {
  "kernelspec": {
   "display_name": "Python 3",
   "language": "python",
   "name": "python3"
  },
  "language_info": {
   "codemirror_mode": {
    "name": "ipython",
    "version": 3
   },
   "file_extension": ".py",
   "mimetype": "text/x-python",
   "name": "python",
   "nbconvert_exporter": "python",
   "pygments_lexer": "ipython3",
   "version": "3.8.5"
  }
 },
 "nbformat": 4,
 "nbformat_minor": 4
}
