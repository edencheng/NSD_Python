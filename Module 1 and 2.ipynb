{
 "cells": [
  {
   "cell_type": "code",
   "execution_count": 3,
   "metadata": {},
   "outputs": [
    {
     "name": "stdout",
     "output_type": "stream",
     "text": [
      "Hello, \"NSD Students\".\n",
      "Hello, \n",
      "\"NSD Students\".\n",
      "I'm legend\n",
      "Hello, World\n",
      "Hello, everyone!\n"
     ]
    }
   ],
   "source": [
    "print('Hello, \"NSD Students\".')\n",
    "print(\"Hello, \\n\\\"NSD Students\\\".\")\n",
    "print('I\\'m legend')\n",
    "print(\"Hello, World\")\n",
    "print('Hello, everyone!')\n"
   ]
  },
  {
   "cell_type": "code",
   "execution_count": 10,
   "metadata": {},
   "outputs": [
    {
     "name": "stdout",
     "output_type": "stream",
     "text": [
      "H8E8L8L8O\n"
     ]
    }
   ],
   "source": [
    "print('H', 'E', 'L','L','O', sep='8')"
   ]
  },
  {
   "cell_type": "code",
   "execution_count": null,
   "metadata": {},
   "outputs": [],
   "source": [
    "print (6 / 3)\n"
   ]
  },
  {
   "cell_type": "code",
   "execution_count": null,
   "metadata": {
    "scrolled": false
   },
   "outputs": [],
   "source": [
    "#The print() function - the escape and newline characters - \\n\n",
    "\n",
    "print(\"The itsy bitsy spider climbed up the waterspout.\")"
   ]
  },
  {
   "cell_type": "code",
   "execution_count": null,
   "metadata": {},
   "outputs": [],
   "source": [
    "#The print() function - using multiple arguments\n",
    "\n",
    "print(\"The itsy bitsy spider\", \"climbed up\", \"the waterspout.\", end = \" * \")\n",
    "print(\"The itsy bitsy spider\", \"climbed up\", \"the waterspout.\")"
   ]
  },
  {
   "cell_type": "code",
   "execution_count": null,
   "metadata": {},
   "outputs": [],
   "source": [
    "print(\"My name is\", \"Python\", \"Monty\")"
   ]
  },
  {
   "cell_type": "code",
   "execution_count": 5,
   "metadata": {},
   "outputs": [
    {
     "name": "stdout",
     "output_type": "stream",
     "text": [
      "My name is Python. Monty Python.\n"
     ]
    }
   ],
   "source": [
    "print(\"My name is\", \"Python.\", end = \" \")\n",
    "print(\"Monty Python.\")"
   ]
  },
  {
   "cell_type": "code",
   "execution_count": 4,
   "metadata": {},
   "outputs": [
    {
     "name": "stdout",
     "output_type": "stream",
     "text": [
      "My-name-is-Monty-Python.\n"
     ]
    }
   ],
   "source": [
    "print(\"My\", \"name\", \"is\", \"Monty\", \"Python.\", sep = \"-\")"
   ]
  },
  {
   "cell_type": "code",
   "execution_count": null,
   "metadata": {},
   "outputs": [],
   "source": [
    "#Two or more string literals (i.e. the ones enclosed between quotes)\n",
    "#next to each other are automatically concatenated.\n",
    "\n",
    "print(\"Pyth\" \"on\")"
   ]
  },
  {
   "cell_type": "code",
   "execution_count": null,
   "metadata": {},
   "outputs": [],
   "source": [
    "print(\"It's indeed Python\")"
   ]
  },
  {
   "cell_type": "code",
   "execution_count": null,
   "metadata": {},
   "outputs": [],
   "source": [
    "print('It\\'s indeed Python')"
   ]
  },
  {
   "cell_type": "code",
   "execution_count": null,
   "metadata": {},
   "outputs": [],
   "source": [
    "city = \"Winnipeg\"\n",
    "print(city)\n",
    "\n",
    "#print(\"Toronto\")"
   ]
  },
  {
   "cell_type": "code",
   "execution_count": 11,
   "metadata": {},
   "outputs": [
    {
     "name": "stdout",
     "output_type": "stream",
     "text": [
      "8\n"
     ]
    }
   ],
   "source": [
    "#The len() function\n",
    "\n",
    "city = \"Winnipeg\"\n",
    "city_len = len(city)\n",
    "print(city_len)"
   ]
  },
  {
   "cell_type": "code",
   "execution_count": null,
   "metadata": {},
   "outputs": [],
   "source": [
    "print(len(\"Winnipeg\"))"
   ]
  },
  {
   "cell_type": "code",
   "execution_count": 14,
   "metadata": {},
   "outputs": [
    {
     "name": "stdout",
     "output_type": "stream",
     "text": [
      "8\n",
      "8\n"
     ]
    }
   ],
   "source": [
    "#Nesting functions\n",
    "\n",
    "city = \"Winnipeg\"\n",
    "print(len(city))\n",
    "\n",
    "print(len(\"Winnipeg\"))"
   ]
  },
  {
   "cell_type": "code",
   "execution_count": null,
   "metadata": {},
   "outputs": [],
   "source": [
    "#String Methods\n",
    "\n",
    "city = \"WiNnipEg\"\n",
    "print(city)\n",
    "print(city.lower())\n",
    "print(city.upper())\n",
    "print(city.capitalize())\n",
    "\n",
    "print(\"toronto\".capitalize())"
   ]
  },
  {
   "cell_type": "code",
   "execution_count": 24,
   "metadata": {},
   "outputs": [
    {
     "name": "stdout",
     "output_type": "stream",
     "text": [
      "I love Winnipeg\n",
      "Winnipeg, I love.\n"
     ]
    }
   ],
   "source": [
    "#String Concatenation\n",
    "\n",
    "#print(\"I \" + \"love \" + \"Winnipeg\")\n",
    "\n",
    "one = \"I\"\n",
    "two = \"love\"\n",
    "three = \"Winnipeg\"\n",
    "print(one +\" \"+ two +\" \"+ three)\n",
    "\n",
    "print(\"{2}, {0} {1}.\" . format(one, two, three))\n"
   ]
  },
  {
   "cell_type": "code",
   "execution_count": null,
   "metadata": {},
   "outputs": [],
   "source": [
    "# Formatting Strings\n",
    "\n",
    "#print(\"I {} Winnipeg.\" . format(\"love\"))\n",
    "#print(\"{} {} {}.\" . format(\"I\", \"love\", \"Winnipeg\"))\n",
    "\n",
    "#print(\"I {0:<2} {1}. {1} {0}s me.\" . format(\"love\", \"Winnipeg\"))\n",
    "\n",
    "print(\"I {0:<2} {1}. {1} {0}s me.\" . format(\"love\", \"Winnipeg\"))\n"
   ]
  },
  {
   "cell_type": "code",
   "execution_count": null,
   "metadata": {},
   "outputs": [],
   "source": [
    "version = 15.0746\n",
    "IOS = \"IOS-XE\"\n",
    "print(\"The software version is {} - {}.\" . format(IOS, version))\n",
    "print(\"The software version is {1:.0f} - {0}.\" . format(IOS, version))\n",
    "\n",
    "print(type(version))\n",
    "print(type(IOS))\n"
   ]
  },
  {
   "cell_type": "code",
   "execution_count": null,
   "metadata": {},
   "outputs": [],
   "source": [
    "print('{0:25} | {1:<25}'.format('Province/ Territories', 'Populations(M)'))\n",
    "print('{0:25} | {1:<25.2f}'.format('Manitoba', 1.369432))\n",
    "print('{0:25} | {1:<25.2f}'.format('Toronto', 14.57642534))\n"
   ]
  },
  {
   "cell_type": "code",
   "execution_count": null,
   "metadata": {},
   "outputs": [],
   "source": [
    "# Repeating Strings\n",
    "\n",
    "print(\"*\" * 8)\n",
    "print(\"Love \" * 5)"
   ]
  },
  {
   "cell_type": "code",
   "execution_count": 27,
   "metadata": {},
   "outputs": [
    {
     "name": "stdout",
     "output_type": "stream",
     "text": [
      "I love CCNA 7.\n",
      "I love CCNA 7.\n"
     ]
    }
   ],
   "source": [
    "# The str() Function\n",
    "\n",
    "version = 7\n",
    "#print(\"I love CCNA\" + version)\n",
    "print(\"I love CCNA \" + str(version) + \".\")\n",
    "\n",
    "print(\"I love CCNA \" + str(version) + \".\")"
   ]
  },
  {
   "cell_type": "code",
   "execution_count": 28,
   "metadata": {},
   "outputs": [
    {
     "name": "stdout",
     "output_type": "stream",
     "text": [
      "59\n"
     ]
    }
   ],
   "source": [
    "# Intergers\n",
    "# integers (octal and hex)\n",
    "# floats\n",
    "\n",
    "\n",
    "print(0o73)\n",
    "# print(0x123)\n",
    "# print(hex(291))\n",
    "# print(10 / 3)\n",
    "#print(round((10 / 3), 2))\n",
    "#print(9 / 3) # format it to int\n",
    "# print(round(10 / 3))\n",
    "#print(round((10 / 1.5), 2))\n",
    "# print(round((10 / 1.5), 2))\n",
    "# print(round((0xAF / 0x12), 2))"
   ]
  },
  {
   "cell_type": "code",
   "execution_count": null,
   "metadata": {},
   "outputs": [],
   "source": [
    "print(0b101) # Converting binary to Decimal\n",
    "print(bin(5)) # Converting Decimal to Binary"
   ]
  },
  {
   "cell_type": "code",
   "execution_count": 29,
   "metadata": {},
   "outputs": [
    {
     "name": "stdout",
     "output_type": "stream",
     "text": [
      "0b111111111111\n"
     ]
    }
   ],
   "source": [
    "d = 0xfff\n",
    "print(bin(d))"
   ]
  },
  {
   "cell_type": "code",
   "execution_count": null,
   "metadata": {},
   "outputs": [],
   "source": [
    "# Boolean values - this is comparison code\n",
    "x = 1\n",
    "y = 2\n",
    "print(1 == 1)\n",
    "print(1 == x)\n",
    "print(y < x)\n"
   ]
  },
  {
   "cell_type": "code",
   "execution_count": null,
   "metadata": {},
   "outputs": [],
   "source": [
    "a = 2\n",
    "b = 3\n",
    "\n",
    "if b > a:\n",
    "    print(\"Indeed a is less b\")\n",
    "print(\"b is not less a\")\n",
    "    "
   ]
  },
  {
   "cell_type": "code",
   "execution_count": null,
   "metadata": {},
   "outputs": [],
   "source": [
    "# Indexing\n",
    "#   String: W   i   N    n   I    p   E   g\n",
    "#   Index:  0   1   2    3   4    5   6   7\n",
    "#   Index: -8  -7  -6   -5  -4   -3  -2  -1\n",
    "\n",
    "city = \"WiNnIpEgashdg;jagh'padjsrgkjgasgpojoljgadflpo;ajgkajg;la\"\n",
    "# print(city[0]) # index 0\n",
    "# print(city[0:8]) # index from 0 to 8, exclude last\n",
    "# print(city[:3]) # index from start to 3, exclude last\n",
    "# print(city[5:]) # index from 5 to last\n",
    "# print(city[-3:]) # index from -3 to last\n",
    "# print(city[:-5]) # index from start to -5, exclude last\n",
    "\n"
   ]
  },
  {
   "cell_type": "code",
   "execution_count": null,
   "metadata": {},
   "outputs": [],
   "source": [
    "\n",
    "#10 * 3 // 2 + 1 - 2 * 6 + 2 ** 4\n",
    "10 * 3 // 2 + 1 - 2 * 6 + 2 ** 4"
   ]
  },
  {
   "cell_type": "code",
   "execution_count": null,
   "metadata": {},
   "outputs": [],
   "source": [
    "#The Arithmetic Operators\n",
    "# Priority - Use EMDAS from left to right\n",
    "\n",
    "ac = -4 + 5.\n",
    "print(ac)\n"
   ]
  },
  {
   "cell_type": "code",
   "execution_count": null,
   "metadata": {},
   "outputs": [],
   "source": [
    "print(2 ** 3)\n",
    "\n",
    "aa = 4 * 2\n",
    "print(aa)\n",
    "\n",
    "ab = round(14 / 3, 2)\n",
    "print(ab)\n",
    "\n",
    "print(12 % 4.5)"
   ]
  },
  {
   "cell_type": "code",
   "execution_count": null,
   "metadata": {},
   "outputs": [],
   "source": [
    "ad = 1 + 2 * 10 / 2\n",
    "print(ad)"
   ]
  },
  {
   "cell_type": "code",
   "execution_count": null,
   "metadata": {},
   "outputs": [],
   "source": [
    "#The Arithmetic Operators\n",
    "# Priority - Use EMDAS from left to right\n",
    "\n",
    "ad = +10 * 4 ** 4 / 2 + 4 - 2\n",
    "print(ad)"
   ]
  },
  {
   "cell_type": "code",
   "execution_count": null,
   "metadata": {},
   "outputs": [],
   "source": [
    "ad = (1 + 2 * 10) / 2\n",
    "print(ad)\n",
    "print(type(ad))\n"
   ]
  },
  {
   "cell_type": "code",
   "execution_count": null,
   "metadata": {},
   "outputs": [],
   "source": [
    "ad = (1 + 2) * 10 / 2\n",
    "print(ad)"
   ]
  },
  {
   "cell_type": "code",
   "execution_count": null,
   "metadata": {},
   "outputs": [],
   "source": [
    "y = 2 + 2\n",
    "x = 6 * 2\n",
    "z = float(y * x)\n",
    "print(z)\n",
    "\n",
    "a = z * 2\n",
    "print(a)\n",
    "\n",
    "aString = 'b'\n",
    "\n",
    "print(aString * 50)"
   ]
  },
  {
   "cell_type": "code",
   "execution_count": null,
   "metadata": {
    "scrolled": true
   },
   "outputs": [],
   "source": [
    "#Basic Input-Output\n",
    "\n",
    "prefix = input(\"Enter your salutation: \")\n",
    "firstname = input(\"Enter your first name: \")\n",
    "lastname = input(\"Enter your last name: \")\n",
    "\n",
    "print(\"Welcome!\", firstname, lastname, \".\")\n",
    "print()\n",
    "print(f\"Welcome {prefix} {firstname} {lastname}.\")\n",
    "print(f\"Welcome {lastname}, {prefix} {firstname}.\")\n",
    "print()\n",
    "print(\"Welcome! {}., {} {}\" . format(lastname, prefix, firstname))\n",
    "print(\"Welcome! {1}., {2} {0}\" . format(lastname, prefix, firstname))"
   ]
  },
  {
   "cell_type": "code",
   "execution_count": null,
   "metadata": {},
   "outputs": [],
   "source": [
    "# Creating Variables\n",
    "\n",
    "a = 1 # a is variable with integer value of 1\n",
    "b = 2 # b is variable with integer value of 2\n",
    "print(a)\n",
    "print(b)\n",
    "b = 3\n",
    "c = b\n",
    "print(c)\n",
    "b = 5\n",
    "print(c)\n",
    "\n",
    "myName = \"Tavare Tulloch\" #myName is a valiable with string value of Tavare Tulloch\n",
    "print(myName)"
   ]
  },
  {
   "cell_type": "code",
   "execution_count": null,
   "metadata": {},
   "outputs": [],
   "source": [
    "#Basic Input-Output\n",
    "\n",
    "myInput = float(input(\"Enter a number: \"))\n",
    "print(myInput)\n",
    "\n",
    "\n",
    "#while True:\n",
    "#     try:\n",
    "#        myInput = int(input(\"Enter a number: \"))\n",
    "#     except ValueError:\n",
    "#         print(\"Not a valid number! Try again\")\n",
    "#         continue\n",
    "#    else:\n",
    "#         break\n",
    "#print(myInput)"
   ]
  },
  {
   "cell_type": "code",
   "execution_count": null,
   "metadata": {},
   "outputs": [],
   "source": [
    "#Type conversion using str() function.\n",
    "\n",
    "#Compute the Hypotenuse\n",
    "\n",
    "a = float(input(\"Input a side length: \"))\n",
    "b = float(input(\"Input b side length: \"))\n",
    "c = ((a**2 + b**2) ** .5)\n",
    "print(\"Hypotenuse length is \" + str((a**2 + b**2) ** .5))\n",
    "print(\"Hypotenuse length is \" + str(c))\n",
    "\n",
    "print(type(c))\n"
   ]
  },
  {
   "cell_type": "code",
   "execution_count": null,
   "metadata": {},
   "outputs": [],
   "source": []
  }
 ],
 "metadata": {
  "kernelspec": {
   "display_name": "Python 3",
   "language": "python",
   "name": "python3"
  },
  "language_info": {
   "codemirror_mode": {
    "name": "ipython",
    "version": 3
   },
   "file_extension": ".py",
   "mimetype": "text/x-python",
   "name": "python",
   "nbconvert_exporter": "python",
   "pygments_lexer": "ipython3",
   "version": "3.8.5"
  }
 },
 "nbformat": 4,
 "nbformat_minor": 4
}
