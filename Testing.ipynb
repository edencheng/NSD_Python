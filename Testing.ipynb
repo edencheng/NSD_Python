{
 "cells": [
  {
   "cell_type": "code",
   "execution_count": 1,
   "metadata": {},
   "outputs": [
    {
     "name": "stdout",
     "output_type": "stream",
     "text": [
      "2 1\n"
     ]
    }
   ],
   "source": [
    "x = 1\n",
    "y = 2\n",
    "z = x\n",
    "x = y\n",
    "y = z\n",
    "\n",
    "\n",
    "print(x,y)"
   ]
  },
  {
   "cell_type": "code",
   "execution_count": 2,
   "metadata": {},
   "outputs": [
    {
     "name": "stdout",
     "output_type": "stream",
     "text": [
      "17.0\n"
     ]
    }
   ],
   "source": [
    "x = 2 + 3*5.0\n",
    "print (x)"
   ]
  },
  {
   "cell_type": "code",
   "execution_count": 3,
   "metadata": {},
   "outputs": [
    {
     "name": "stdout",
     "output_type": "stream",
     "text": [
      "r\n",
      "3\n",
      "rrr\n"
     ]
    }
   ],
   "source": [
    "x = input()\n",
    "y = int(input())\n",
    "\n",
    "print (x*y)"
   ]
  },
  {
   "cell_type": "code",
   "execution_count": 4,
   "metadata": {},
   "outputs": [
    {
     "name": "stdout",
     "output_type": "stream",
     "text": [
      "17.5\n"
     ]
    }
   ],
   "source": [
    "x = 1/2+3//3+4**2\n",
    "print(x)\n"
   ]
  },
  {
   "cell_type": "code",
   "execution_count": 5,
   "metadata": {},
   "outputs": [
    {
     "name": "stdout",
     "output_type": "stream",
     "text": [
      "0.5\n"
     ]
    }
   ],
   "source": [
    "print (1/2)\n"
   ]
  },
  {
   "cell_type": "code",
   "execution_count": 6,
   "metadata": {},
   "outputs": [
    {
     "name": "stdout",
     "output_type": "stream",
     "text": [
      "0\n"
     ]
    }
   ],
   "source": [
    "print (1//2*3)"
   ]
  },
  {
   "cell_type": "code",
   "execution_count": 7,
   "metadata": {},
   "outputs": [
    {
     "ename": "ZeroDivisionError",
     "evalue": "integer division or modulo by zero",
     "output_type": "error",
     "traceback": [
      "\u001b[1;31m---------------------------------------------------------------------------\u001b[0m",
      "\u001b[1;31mZeroDivisionError\u001b[0m                         Traceback (most recent call last)",
      "\u001b[1;32m<ipython-input-7-2733890a8b1c>\u001b[0m in \u001b[0;36m<module>\u001b[1;34m\u001b[0m\n\u001b[1;32m----> 1\u001b[1;33m \u001b[0mprint\u001b[0m \u001b[1;33m(\u001b[0m\u001b[1;36m8\u001b[0m\u001b[1;33m%\u001b[0m\u001b[1;36m0\u001b[0m\u001b[1;33m)\u001b[0m\u001b[1;33m\u001b[0m\u001b[1;33m\u001b[0m\u001b[0m\n\u001b[0m",
      "\u001b[1;31mZeroDivisionError\u001b[0m: integer division or modulo by zero"
     ]
    }
   ],
   "source": [
    "print (8%0)"
   ]
  },
  {
   "cell_type": "code",
   "execution_count": null,
   "metadata": {},
   "outputs": [],
   "source": [
    "print(1**2**3)"
   ]
  },
  {
   "cell_type": "code",
   "execution_count": null,
   "metadata": {},
   "outputs": [],
   "source": [
    "print(2//4)"
   ]
  },
  {
   "cell_type": "code",
   "execution_count": null,
   "metadata": {},
   "outputs": [],
   "source": [
    "x = int(input())\n",
    "y = int(input())\n",
    "\n",
    "x = x / y\n",
    "y = y / x\n",
    "\n",
    "print (y)"
   ]
  },
  {
   "cell_type": "code",
   "execution_count": null,
   "metadata": {},
   "outputs": [],
   "source": [
    "print (20.12E8)"
   ]
  },
  {
   "cell_type": "code",
   "execution_count": null,
   "metadata": {},
   "outputs": [],
   "source": [
    "print(1//1)\n"
   ]
  },
  {
   "cell_type": "code",
   "execution_count": null,
   "metadata": {},
   "outputs": [],
   "source": [
    "x = input()\n",
    "y = input()\n",
    "\n",
    "print(x+y)"
   ]
  },
  {
   "cell_type": "code",
   "execution_count": null,
   "metadata": {},
   "outputs": [],
   "source": [
    "print(20.12E8.0)"
   ]
  },
  {
   "cell_type": "code",
   "execution_count": null,
   "metadata": {},
   "outputs": [],
   "source": [
    "def main():\n",
    "    country = \"Canada\"\n",
    "    province = \"Manitoba\"\n",
    "    city = \"Winnipeg\"\n",
    "    print (\"Here is an example of a country, a province, and a city\", country, province, city, sep = \"\\n\")\n",
    "\n",
    "if __name__ == \"__main__\":\n",
    "    main()"
   ]
  },
  {
   "cell_type": "code",
   "execution_count": null,
   "metadata": {},
   "outputs": [],
   "source": [
    "a = 1==1\n",
    "\n",
    "b = 1>=2\n",
    "\n",
    "c = 3<=3\n",
    "\n",
    "d = 3<3\n",
    "e = 4 !=5\n",
    "\n",
    "\n",
    "print (a)\n",
    "print(b)\n",
    "print(c)\n",
    "print(d)\n",
    "print(e)\n",
    "print (\"a and b or c and not d is\", a and b or c and not d)"
   ]
  },
  {
   "cell_type": "code",
   "execution_count": null,
   "metadata": {},
   "outputs": [],
   "source": [
    "a = 1\n",
    "b = 2\n",
    "if a<b:\n",
    "    print (\"a is less than b\")\n",
    "print(\"a is diffinitely less than b\")\n",
    "    \n",
    "print(\"Not sure if a is less than b\")    "
   ]
  },
  {
   "cell_type": "code",
   "execution_count": null,
   "metadata": {},
   "outputs": [],
   "source": [
    "c = 3\n",
    "d = 2\n",
    "if c<d:\n",
    "    print (\"c is less than d\")\n",
    "else:\n",
    "    print (\"c is not less than b\")\n",
    "    \n",
    "print(\"outside the if-else block\")   "
   ]
  },
  {
   "cell_type": "code",
   "execution_count": null,
   "metadata": {},
   "outputs": [],
   "source": [
    "x = 4\n",
    "\n",
    "if x > 5: \n",
    "    if x == 6:\n",
    "        print (\"nested: x == 6\")\n",
    "    elif x == 10:\n",
    "        print (\"nested: x == 10\")\n",
    "    else:\n",
    "        print (\"nested: else\")\n",
    "else:\n",
    "    print (\"outside else\")\n",
    "    \n",
    "y = x + 1\n",
    "print (y)"
   ]
  },
  {
   "cell_type": "code",
   "execution_count": null,
   "metadata": {},
   "outputs": [],
   "source": [
    "x = 4\n",
    "\n",
    "if x == 10:\n",
    "    print (\"x == 10\")\n",
    "if x > 15:\n",
    "    print (\"x > 15\")\n",
    "elif x > 10:\n",
    "    print (\"x > 10\")\n",
    "elif x > 5:\n",
    "    print (\"x > 5\")\n",
    "    \n",
    "else:\n",
    "    print (\"else will not be executed\")"
   ]
  },
  {
   "cell_type": "code",
   "execution_count": null,
   "metadata": {},
   "outputs": [],
   "source": [
    "largest_num = -9999999999\n",
    "\n",
    "number = int(input(\"Enter a number or type -1 to stop: \"))\n",
    "\n",
    "while number != -1:\n",
    "    if number > largest_num:\n",
    "        largest_num = number\n",
    "    number = int(input(\"Please enter another number or type -1 to stop: \"))\n",
    "\n",
    "print (\"The largest number is: \", largest_num)"
   ]
  },
  {
   "cell_type": "code",
   "execution_count": null,
   "metadata": {},
   "outputs": [],
   "source": [
    "i = 0\n",
    "while i < 10:\n",
    "    i += 2\n",
    "    print (i, end = \" \")\n"
   ]
  },
  {
   "cell_type": "code",
   "execution_count": null,
   "metadata": {},
   "outputs": [],
   "source": [
    "for i in range (20):\n",
    "    i+=2\n",
    "    print(i, end = \" \")"
   ]
  },
  {
   "cell_type": "code",
   "execution_count": null,
   "metadata": {},
   "outputs": [],
   "source": [
    "for i in range (20):\n",
    "    print(i, end = \" \")\n",
    "\n",
    "print(\"\\n\")\n",
    "for i in range (1,20):\n",
    "    print(i, end = \" \")\n",
    "\n",
    "print(\"\\n\")\n",
    "for i in range (19,20):\n",
    "    print(i, end = \" \")"
   ]
  },
  {
   "cell_type": "code",
   "execution_count": null,
   "metadata": {},
   "outputs": [],
   "source": [
    "a = int(input(\"Enter a positive value for a: \"))\n",
    "while a < 0:\n",
    "    a = int(input(\"Invalid number, Enter a positive value for a: \"))\n",
    "\n",
    "b = int(input(\"Enter a positive value for b: \"))\n",
    "while b < 0:\n",
    "    b = int(input(\"Invalid number, Enter a positive value for b: \"))\n",
    "    \n",
    "if a<=5 and b <=5:\n",
    "    print(\"The entered numbers were both less that or equal to 5.\")\n",
    "    print(\"The product is:\", a*b, \"and should not be greater than 25.\")\n",
    "else:\n",
    "    print(\"Either number is greater than 5.\")\n",
    "    print(\"The product is:\", a*b, end = \".\")"
   ]
  },
  {
   "cell_type": "code",
   "execution_count": null,
   "metadata": {},
   "outputs": [],
   "source": [
    "print(\"The break instruction:\")\n",
    "for i in range(1,6):\n",
    "    if i==3:\n",
    "        break\n",
    "    print(\"Inside the loop.\", i)\n",
    "print (\"Outside the loop.\")\n",
    "\n",
    "print(\"\\nThe Continue Instruction:\")\n",
    "for i in range (1,6):\n",
    "    if i == 3:\n",
    "        print(\"------------haha, before continue\")\n",
    "        continue\n",
    "        print(\"hoho\")\n",
    "    print(\"Inside the loop:\",i)"
   ]
  },
  {
   "cell_type": "code",
   "execution_count": null,
   "metadata": {},
   "outputs": [],
   "source": [
    "k = 111\n",
    "for k in range (2,3): # k value is re-assigned in for loop\n",
    "    print (k)\n",
    "else:\n",
    "    print(\"else:\",k)\n",
    "\n",
    "k = 111\n",
    "for k in range (4,3): # k value is re-assigned in for loop\n",
    "    print (k)\n",
    "else:\n",
    "    print(\"else:\",k)\n",
    "    "
   ]
  },
  {
   "cell_type": "code",
   "execution_count": null,
   "metadata": {},
   "outputs": [],
   "source": [
    "for j in range (2,1):\n",
    "    print(j)\n",
    "else:\n",
    "    print(\"Else:\", j)"
   ]
  },
  {
   "cell_type": "code",
   "execution_count": null,
   "metadata": {},
   "outputs": [],
   "source": [
    "for k in range(2):\n",
    "    print(k)\n",
    "else:\n",
    "    print(\"Else:\", k)\n",
    "\n",
    "print (k)"
   ]
  },
  {
   "cell_type": "code",
   "execution_count": null,
   "metadata": {},
   "outputs": [],
   "source": [
    "#Bit shifting\n",
    "var = 2\n",
    "\n",
    "varR = var >> 2\n",
    "varL = var<< 3\n",
    "print (var)\n",
    "print (varR)\n",
    "print (varL)\n"
   ]
  },
  {
   "cell_type": "code",
   "execution_count": null,
   "metadata": {},
   "outputs": [],
   "source": [
    "print(\"Location List\")\n",
    "locations = [\"Winnipeg\", \"Toronto\", \"Vancouver\", \"Ottawa\"]\n",
    "\n",
    "print (locations[1])"
   ]
  },
  {
   "cell_type": "code",
   "execution_count": null,
   "metadata": {},
   "outputs": [],
   "source": [
    "locations = [\"Winnipeg\", \"Toronto\", \"Vancouver\", \"Ottawa\"]\n",
    "locations.insert(4,\"Hong Kong\")\n",
    "print(locations)\n",
    "\n",
    "locations = [\"Winnipeg\", \"Toronto\", \"Vancouver\", \"Ottawa\"]\n",
    "locations.insert(-1,\"Hong Kong\")\n",
    "print(locations)\n"
   ]
  },
  {
   "cell_type": "code",
   "execution_count": null,
   "metadata": {},
   "outputs": [],
   "source": [
    "locations = [\"Winnipeg\", \"Toronto\", \"Vancouver\", \"Ottawa\"]\n",
    "del (locations[-4])\n",
    "\n",
    "print(locations)"
   ]
  },
  {
   "cell_type": "code",
   "execution_count": null,
   "metadata": {},
   "outputs": [],
   "source": [
    "myList = []\n",
    "for i in range (5):\n",
    "    myList.append(i+1)\n",
    "\n",
    "print(myList)\n",
    "\n",
    "myList = []\n",
    "myList1 = []\n",
    "for i in range (5):\n",
    "    myList.insert(0, i+1)\n",
    "    myList1 += myList\n",
    "    \n",
    "print(myList)\n",
    "print(myList1)"
   ]
  },
  {
   "cell_type": "code",
   "execution_count": null,
   "metadata": {},
   "outputs": [],
   "source": [
    "myList = [10, 7, 4, 6, 3 , 9]\n",
    "total = 0\n",
    "\n",
    "for i in myList:\n",
    "    total += i\n",
    "    \n",
    "print(total)\n",
    "\n"
   ]
  },
  {
   "cell_type": "code",
   "execution_count": null,
   "metadata": {},
   "outputs": [],
   "source": [
    "list1 = [1]\n",
    "list2 = list1\n",
    "list1[0] = 2\n",
    "print(list1)\n",
    "print(list2)"
   ]
  },
  {
   "cell_type": "code",
   "execution_count": null,
   "metadata": {},
   "outputs": [],
   "source": [
    "myList = [10, 7, 4, 6, 3 , 9]\n",
    "new_list = myList[1:3]\n",
    "print(new_list)\n",
    "\n",
    "new_list = myList[:]\n",
    "print(new_list)\n",
    "\n",
    "new_list = myList[0:-1]\n",
    "print(new_list)\n",
    "\n",
    "new_list = myList[-1:1]\n",
    "print(new_list)"
   ]
  },
  {
   "cell_type": "code",
   "execution_count": null,
   "metadata": {},
   "outputs": [],
   "source": [
    "myList = [10,7,4,6,8]\n",
    "del myList\n",
    "\n",
    "print(myList)"
   ]
  },
  {
   "cell_type": "code",
   "execution_count": null,
   "metadata": {},
   "outputs": [],
   "source": [
    "myList = [10,7,4,6,8]\n",
    "\n",
    "print(5 in myList)\n",
    "print(10 in myList)\n",
    "print(9 not in myList)"
   ]
  },
  {
   "cell_type": "code",
   "execution_count": null,
   "metadata": {},
   "outputs": [],
   "source": [
    "for i in range(1):\n",
    "    print(\"#\")\n",
    "else:\n",
    "    print(\"#\")"
   ]
  },
  {
   "cell_type": "code",
   "execution_count": null,
   "metadata": {},
   "outputs": [],
   "source": [
    "myList = [10,7,4,6,8]\n",
    "print(myList[-2:-2])"
   ]
  },
  {
   "cell_type": "code",
   "execution_count": null,
   "metadata": {},
   "outputs": [],
   "source": [
    "a=1\n",
    "b=0\n",
    "\n",
    "c=a&b\n",
    "d=a|b\n",
    "e=a^b\n",
    "\n",
    "print(c)\n",
    "print(d)\n",
    "print(e)\n"
   ]
  },
  {
   "cell_type": "code",
   "execution_count": null,
   "metadata": {},
   "outputs": [],
   "source": [
    "val = [0,1,2]\n",
    "val[0],val[2]=val[2],val[0]\n",
    "print(val)"
   ]
  },
  {
   "cell_type": "code",
   "execution_count": null,
   "metadata": {},
   "outputs": [],
   "source": [
    "mylist = [i for i in range(-1,2)]\n",
    "print(mylist)"
   ]
  },
  {
   "cell_type": "code",
   "execution_count": 9,
   "metadata": {},
   "outputs": [
    {
     "name": "stdout",
     "output_type": "stream",
     "text": [
      "0\n",
      "1\n",
      "2\n"
     ]
    }
   ],
   "source": [
    "def message():\n",
    "    print(\"1\")\n",
    "\n",
    "print(0)\n",
    "message()\n",
    "print(\"2\")"
   ]
  },
  {
   "cell_type": "code",
   "execution_count": 20,
   "metadata": {},
   "outputs": [
    {
     "name": "stdout",
     "output_type": "stream",
     "text": [
      "Enter a number: 1\n",
      "Test 1\n"
     ]
    }
   ],
   "source": [
    "def message(number):\n",
    "    print(\"Enter a number:\", number)\n",
    "\n",
    "message(1)"
   ]
  },
  {
   "cell_type": "code",
   "execution_count": 15,
   "metadata": {},
   "outputs": [
    {
     "ename": "NameError",
     "evalue": "name 'a' is not defined",
     "output_type": "error",
     "traceback": [
      "\u001b[1;31m---------------------------------------------------------------------------\u001b[0m",
      "\u001b[1;31mNameError\u001b[0m                                 Traceback (most recent call last)",
      "\u001b[1;32m<ipython-input-15-c996c27f196c>\u001b[0m in \u001b[0;36m<module>\u001b[1;34m\u001b[0m\n\u001b[0;32m      3\u001b[0m     \u001b[0mprint\u001b[0m\u001b[1;33m(\u001b[0m\u001b[1;34m\"Enter a string:\"\u001b[0m\u001b[1;33m,\u001b[0m \u001b[0mstring\u001b[0m\u001b[1;33m)\u001b[0m\u001b[1;33m\u001b[0m\u001b[1;33m\u001b[0m\u001b[0m\n\u001b[0;32m      4\u001b[0m \u001b[1;33m\u001b[0m\u001b[0m\n\u001b[1;32m----> 5\u001b[1;33m \u001b[0mmessage\u001b[0m\u001b[1;33m(\u001b[0m\u001b[0ma\u001b[0m\u001b[1;33m,\u001b[0m\u001b[1;36m2\u001b[0m\u001b[1;33m)\u001b[0m\u001b[1;33m\u001b[0m\u001b[1;33m\u001b[0m\u001b[0m\n\u001b[0m",
      "\u001b[1;31mNameError\u001b[0m: name 'a' is not defined"
     ]
    }
   ],
   "source": [
    "def message(number,string):\n",
    "    print(\"Enter a number:\", int(number))\n",
    "    print(\"Enter a string:\", string)\n",
    "    \n",
    "message(a,2)"
   ]
  },
  {
   "cell_type": "code",
   "execution_count": 24,
   "metadata": {},
   "outputs": [
    {
     "name": "stdout",
     "output_type": "stream",
     "text": [
      "['Eden', 10]\n",
      "Boozhoo,10\n"
     ]
    }
   ],
   "source": [
    "def boozhoo_name(name):\n",
    "    print(\"Boozhoo,{}\".format(name))\n",
    "\n",
    "name = [\"Eden\",10]\n",
    "print(name)\n",
    "boozhoo_name(name[1])"
   ]
  },
  {
   "cell_type": "code",
   "execution_count": 27,
   "metadata": {},
   "outputs": [
    {
     "name": "stdout",
     "output_type": "stream",
     "text": [
      "Hello, my name is Eden Cheng\n",
      "Hello, my name is Eden Cheng\n"
     ]
    }
   ],
   "source": [
    "def introduction(firstName, lastName):\n",
    "    print(\"Hello, my name is\", firstName, lastName)\n",
    "    \n",
    "introduction(firstName = \"Eden\", lastName = \"Cheng\")\n",
    "introduction(lastName = \"Cheng\", firstName = \"Eden\")"
   ]
  },
  {
   "cell_type": "code",
   "execution_count": 35,
   "metadata": {},
   "outputs": [
    {
     "name": "stdout",
     "output_type": "stream",
     "text": [
      "Three...\n",
      "Two...\n",
      "One...\n"
     ]
    }
   ],
   "source": [
    "def happyNY(wishes = True):\n",
    "    print(\"Three...\")\n",
    "    print(\"Two...\")\n",
    "    print(\"One...\")\n",
    "    if not wishes:\n",
    "        return\n",
    "    \n",
    "    print(\"Happy New Year!\")\n",
    "    \n",
    "happyNY(False)"
   ]
  },
  {
   "cell_type": "code",
   "execution_count": 42,
   "metadata": {},
   "outputs": [
    {
     "name": "stdout",
     "output_type": "stream",
     "text": [
      "<class 'int'>\n",
      "123\n"
     ]
    }
   ],
   "source": [
    "def testing():\n",
    "    return 123\n",
    "\n",
    "x = testing()\n",
    "\n",
    "print(type(x))\n",
    "print(x)"
   ]
  },
  {
   "cell_type": "code",
   "execution_count": 43,
   "metadata": {},
   "outputs": [
    {
     "name": "stdout",
     "output_type": "stream",
     "text": [
      "So Interesting!\n",
      "testing mode ON\n",
      "noring 123\n"
     ]
    }
   ],
   "source": [
    "def testing():\n",
    "    print(\"testing mode ON\")\n",
    "    return 123\n",
    "\n",
    "print(\"So Interesting!\")\n",
    "test = testing()\n",
    "print(\"boring\", test)"
   ]
  },
  {
   "cell_type": "code",
   "execution_count": 46,
   "metadata": {},
   "outputs": [
    {
     "name": "stdout",
     "output_type": "stream",
     "text": [
      "12\n"
     ]
    }
   ],
   "source": [
    "def sumoflist(lst):\n",
    "    sum = 0\n",
    "    \n",
    "    for elem in lst:\n",
    "        sum += elem\n",
    "    return sum\n",
    "\n",
    "print(sumoflist([5,4,3]))"
   ]
  },
  {
   "cell_type": "code",
   "execution_count": 56,
   "metadata": {},
   "outputs": [
    {
     "name": "stdout",
     "output_type": "stream",
     "text": [
      "[0, 1, 2, 3, 4, 5, 6, 7, 8, 9, 10, 11, 12, 13, 14, 15, 16, 17, 18, 19]\n"
     ]
    }
   ],
   "source": [
    "def strangelistfunction(n):\n",
    "    strangelist = []\n",
    "    \n",
    "    for i in range(0,n):\n",
    "        strangelist.insert(n,i)\n",
    "        \n",
    "    return strangelist\n",
    "    print(strangelist) #not executed after return\n",
    "\n",
    "print(strangelistfunction(20))"
   ]
  },
  {
   "cell_type": "code",
   "execution_count": 61,
   "metadata": {},
   "outputs": [
    {
     "ename": "NameError",
     "evalue": "name 'a' is not defined",
     "output_type": "error",
     "traceback": [
      "\u001b[1;31m---------------------------------------------------------------------------\u001b[0m",
      "\u001b[1;31mNameError\u001b[0m                                 Traceback (most recent call last)",
      "\u001b[1;32m<ipython-input-61-82e0900e478f>\u001b[0m in \u001b[0;36m<module>\u001b[1;34m\u001b[0m\n\u001b[0;32m      2\u001b[0m     \u001b[0ma\u001b[0m \u001b[1;33m=\u001b[0m \u001b[1;36m123\u001b[0m\u001b[1;33m\u001b[0m\u001b[1;33m\u001b[0m\u001b[0m\n\u001b[0;32m      3\u001b[0m \u001b[1;33m\u001b[0m\u001b[0m\n\u001b[1;32m----> 4\u001b[1;33m \u001b[0mprint\u001b[0m\u001b[1;33m(\u001b[0m\u001b[0ma\u001b[0m\u001b[1;33m)\u001b[0m\u001b[1;33m\u001b[0m\u001b[1;33m\u001b[0m\u001b[0m\n\u001b[0m",
      "\u001b[1;31mNameError\u001b[0m: name 'a' is not defined"
     ]
    }
   ],
   "source": [
    "def scopeTest():\n",
    "    a = 123\n",
    "\n",
    "print(a)"
   ]
  },
  {
   "cell_type": "code",
   "execution_count": 62,
   "metadata": {},
   "outputs": [
    {
     "name": "stdout",
     "output_type": "stream",
     "text": [
      "Do not know that variable? 88\n",
      "1\n"
     ]
    }
   ],
   "source": [
    "def myFunction():\n",
    "    var = 88\n",
    "    print(\"Do not know that variable?\", var)\n",
    "\n",
    "var = 1\n",
    "myFunction()\n",
    "print(var)"
   ]
  },
  {
   "cell_type": "code",
   "execution_count": 67,
   "metadata": {},
   "outputs": [
    {
     "name": "stdout",
     "output_type": "stream",
     "text": [
      "Do not know that variable? 1\n",
      "1\n"
     ]
    }
   ],
   "source": [
    "def myFunction():\n",
    "    var = 2  # local variable\n",
    "    print(\"Do not know that variable?\", var)\n",
    "\n",
    "var = 1 #Global\n",
    "myFunction()\n",
    "print(var)"
   ]
  },
  {
   "cell_type": "code",
   "execution_count": 66,
   "metadata": {},
   "outputs": [
    {
     "name": "stdout",
     "output_type": "stream",
     "text": [
      "Do not know that variable? 2\n",
      "2\n"
     ]
    }
   ],
   "source": [
    "def myFunction():\n",
    "    global var\n",
    "    var = 2\n",
    "    print(\"Do not know that variable?\", var)\n",
    "\n",
    "var = 1\n",
    "myFunction()\n",
    "print(var)"
   ]
  },
  {
   "cell_type": "code",
   "execution_count": 70,
   "metadata": {},
   "outputs": [
    {
     "name": "stdout",
     "output_type": "stream",
     "text": [
      "List inside the Function [2, 3]\n",
      "[0, 1]\n",
      "List outside [2, 3]\n"
     ]
    }
   ],
   "source": [
    "# if the argument is a list, then changing the value of the corresponding parameter doesn't affect the list\n",
    "# (remember: variables containing lists are stored in a different way than scalars - single value)\n",
    "\n",
    "# but if you change a list identified by the parameter (note: the list, not the parameter!), \n",
    "# the list will reflect the change.\n",
    "\n",
    "def myFunction(myList1):\n",
    "    print(\"List inside the Function\", myList1)\n",
    "    myList1 = [0, 1]\n",
    "    print(myList1)\n",
    "    \n",
    "myList2 = [2, 3]\n",
    "myFunction(myList2)\n",
    "\n",
    "print(\"List outside\", myList2)\n",
    "\n"
   ]
  },
  {
   "cell_type": "code",
   "execution_count": 72,
   "metadata": {},
   "outputs": [
    {
     "name": "stdout",
     "output_type": "stream",
     "text": [
      "List inside the Function [2, 3, 4]\n",
      "List outside [4]\n"
     ]
    }
   ],
   "source": [
    "# if the argument is a list, then changing the value of the corresponding parameter doesn't affect the list\n",
    "# (remember: variables containing lists are stored in a different way than scalars - single value)\n",
    "\n",
    "# but if you change a list identified by the parameter (note: the list, not the parameter!), \n",
    "# the list will reflect the change.\n",
    "\n",
    "\n",
    "def myFunction(myList1):\n",
    "    print(\"List inside the Function\",myList1)\n",
    "    del myList1[0:2]\n",
    "\n",
    "myList2 = [2, 3, 4]\n",
    "myFunction(myList2)\n",
    "\n",
    "print(\"List outside\", myList2)\n"
   ]
  },
  {
   "cell_type": "code",
   "execution_count": 76,
   "metadata": {},
   "outputs": [
    {
     "name": "stdout",
     "output_type": "stream",
     "text": [
      "29.385\n",
      "29.384756657483933\n",
      "29.385\n"
     ]
    }
   ],
   "source": [
    "def bmi(weight,height):\n",
    "    return weight/height**2\n",
    "\n",
    "a = bmi(80,1.65)\n",
    "print(round(a,3))\n",
    "print(a)\n",
    "print(\"{:.3f}\".format(a))"
   ]
  },
  {
   "cell_type": "code",
   "execution_count": 79,
   "metadata": {},
   "outputs": [
    {
     "name": "stdout",
     "output_type": "stream",
     "text": [
      "36.915\n",
      "36.91460055096419\n",
      "36.915\n"
     ]
    }
   ],
   "source": [
    "def bmi(weight,height):\n",
    "    if height <1.0 or height > 2.5 or weight < 20 or weight > 200:\n",
    "        return None\n",
    "    return weight/height**2\n",
    "\n",
    "a = bmi(100.5,1.65)\n",
    "print(round(a,3))\n",
    "print(a)\n",
    "print(\"{:.3f}\".format(a))"
   ]
  },
  {
   "cell_type": "code",
   "execution_count": 91,
   "metadata": {},
   "outputs": [
    {
     "name": "stdout",
     "output_type": "stream",
     "text": [
      "(1, 2, 3, 4)\n",
      "(1.0, 0.5)\n",
      "('Hello',)\n",
      "Hello\n"
     ]
    }
   ],
   "source": [
    "#EXample of Tuple\n",
    "tuple1 = (1,2,3,4)\n",
    "tuple2 = 1., .5,# 2.6, 4.3\n",
    "tuple3 = \"Hello\",\n",
    "not_tuple = \"Hello\"\n",
    "\n",
    "#tuple1 = tuple1.append(10) # not allowed\n",
    "\n",
    "print(tuple1)\n",
    "print(tuple2)\n",
    "print(tuple3)\n",
    "print(not_tuple)"
   ]
  },
  {
   "cell_type": "code",
   "execution_count": 87,
   "metadata": {},
   "outputs": [
    {
     "name": "stdout",
     "output_type": "stream",
     "text": [
      "(1, 10)\n"
     ]
    }
   ],
   "source": [
    "myTuple = (1,10,100,1000)\n",
    "\n",
    "#del myTuple[0:2]  not allowed\n",
    "print(myTuple[0:2])"
   ]
  },
  {
   "cell_type": "code",
   "execution_count": 97,
   "metadata": {},
   "outputs": [
    {
     "ename": "TypeError",
     "evalue": "'tuple' object does not support item assignment",
     "output_type": "error",
     "traceback": [
      "\u001b[1;31m---------------------------------------------------------------------------\u001b[0m",
      "\u001b[1;31mTypeError\u001b[0m                                 Traceback (most recent call last)",
      "\u001b[1;32m<ipython-input-97-d14d6759840c>\u001b[0m in \u001b[0;36m<module>\u001b[1;34m\u001b[0m\n\u001b[0;32m      2\u001b[0m \u001b[0mtuple2\u001b[0m \u001b[1;33m=\u001b[0m \u001b[1;33m(\u001b[0m\u001b[1;36m123\u001b[0m\u001b[1;33m,\u001b[0m \u001b[1;36m456\u001b[0m\u001b[1;33m)\u001b[0m\u001b[1;33m\u001b[0m\u001b[1;33m\u001b[0m\u001b[0m\n\u001b[0;32m      3\u001b[0m \u001b[1;33m\u001b[0m\u001b[0m\n\u001b[1;32m----> 4\u001b[1;33m \u001b[0mmyTuple\u001b[0m\u001b[1;33m[\u001b[0m\u001b[1;36m1\u001b[0m\u001b[1;33m]\u001b[0m \u001b[1;33m=\u001b[0m \u001b[1;33m-\u001b[0m\u001b[1;36m10\u001b[0m\u001b[1;33m\u001b[0m\u001b[1;33m\u001b[0m\u001b[0m\n\u001b[0m",
      "\u001b[1;31mTypeError\u001b[0m: 'tuple' object does not support item assignment"
     ]
    }
   ],
   "source": [
    "myTuple = (1,10,100,1000)\n",
    "tuple2 = (123, 456)\n",
    "\n",
    "myTuple[1] = -10\n"
   ]
  },
  {
   "cell_type": "code",
   "execution_count": 96,
   "metadata": {},
   "outputs": [
    {
     "name": "stdout",
     "output_type": "stream",
     "text": [
      "1\n",
      "1000\n",
      "(1, 10, 100)\n",
      "(10, 100, 1000)\n",
      "(1, 10)\n",
      "1\n",
      "10\n",
      "100\n",
      "1000\n"
     ]
    }
   ],
   "source": [
    "myTuple = (1, 10, 100, 1000)\n",
    "\n",
    "#del myTuple[0:2]\n",
    "print(myTuple[0])\n",
    "print(myTuple[-1])\n",
    "print(myTuple[0:3])\n",
    "print(myTuple[1:])\n",
    "print(myTuple[:-2])\n",
    "\n",
    "for elem in myTuple:\n",
    "    print(elem)\n"
   ]
  },
  {
   "cell_type": "code",
   "execution_count": 98,
   "metadata": {},
   "outputs": [
    {
     "name": "stdout",
     "output_type": "stream",
     "text": [
      "9\n",
      "(1, 10, 100, 1000, 10000)\n",
      "(1, 10, 100, 1, 10, 100, 1, 10, 100)\n",
      "True\n",
      "True\n",
      "100\n",
      "[1, 10, 100, 1000, 10000]\n",
      "<class 'list'>\n"
     ]
    }
   ],
   "source": [
    "myTuple = (1, 10, 100)\n",
    "\n",
    "t1 = myTuple + (1000, 10000)\n",
    "\n",
    "t2 = myTuple * (3)\n",
    "\n",
    "print(len(t2))\n",
    "print(t1)\n",
    "print(t2)\n",
    "print(10 in myTuple)\n",
    "print(-10 not in myTuple)\n",
    "\n",
    "for item_tup in t1:\n",
    "    if item_tup == 100:\n",
    "        print(item_tup)\n",
    "\n",
    "#Creating a List out of a Tuple\n",
    "item_list = []\n",
    "\n",
    "for item in t1:\n",
    "    item_list.append(item)\n",
    "print(item_list)\n",
    "print(type(item_list))\n"
   ]
  },
  {
   "cell_type": "code",
   "execution_count": 99,
   "metadata": {},
   "outputs": [
    {
     "name": "stdout",
     "output_type": "stream",
     "text": [
      "Chat\n",
      "7654321\n"
     ]
    }
   ],
   "source": [
    "#Examply of Dictionary\n",
    "\n",
    "dict = {\"Cat\":\"Chat\" , \"Dog\": \"Chien\" , \"Horse\":\"Cheval\"}\n",
    "phonenumber = {\"Boss\": 1234567 , \"Suzy\": 7654321}\n",
    "emptyDictionary = {}\n",
    "\n",
    "print(dict[\"Cat\"])\n",
    "print(phonenumber[\"Suzy\"])"
   ]
  },
  {
   "cell_type": "code",
   "execution_count": 107,
   "metadata": {},
   "outputs": [
    {
     "name": "stdout",
     "output_type": "stream",
     "text": [
      "Cat -> Chat\n",
      "Lion is not in dictionary\n",
      "Horse -> Cheval\n"
     ]
    }
   ],
   "source": [
    "#Examply of Dictionary\n",
    "\n",
    "dict = {\"Cat\":\"Chat\" , \"Dog\": \"Chien\" , \"Horse\":\"Cheval\"}\n",
    "word = [\"Cat\", \"Lion\",\"Horse\"]\n",
    "        \n",
    "for eng in word:\n",
    "    if eng in dict:\n",
    "        print(eng,\"->\",dict[eng])\n",
    "    else:\n",
    "        print(eng, \"is not in dictionary\")"
   ]
  },
  {
   "cell_type": "code",
   "execution_count": 118,
   "metadata": {},
   "outputs": [
    {
     "name": "stdout",
     "output_type": "stream",
     "text": [
      "R2 -> 123\n",
      "R3 -> 456\n",
      "R4 -> 111\n",
      "111\n",
      "123\n",
      "456\n"
     ]
    }
   ],
   "source": [
    "dict = {\"R2\": \"123\" , \"R3\": \"456\" , \"R4\" : \"111\"}\n",
    "\n",
    "for key in dict.keys():\n",
    "    print(key, \"->\", dict[key])\n",
    "                          \n",
    "for value in sorted(dict.values()):\n",
    "    print(value)"
   ]
  },
  {
   "cell_type": "code",
   "execution_count": 111,
   "metadata": {},
   "outputs": [
    {
     "name": "stdout",
     "output_type": "stream",
     "text": [
      "Sorted\n",
      "R2 -> 123\n",
      "R3 -> 789\n",
      "R4 -> 456\n",
      "\n",
      "Unsorted\n",
      "R2 -> 123\n",
      "R4 -> 456\n",
      "R3 -> 789\n"
     ]
    }
   ],
   "source": [
    "dict = {\"R2\": \"123\" , \"R4\": \"456\" , \"R3\" : \"789\"}\n",
    "\n",
    "print(\"Sorted\")\n",
    "for key in sorted(dict.keys()):\n",
    "    print(key, \"->\", dict[key])\n",
    "\n",
    "print(\"\\nUnsorted\")\n",
    "for key in dict.keys():\n",
    "    print(key, \"->\", dict[key])"
   ]
  },
  {
   "cell_type": "code",
   "execution_count": 114,
   "metadata": {},
   "outputs": [
    {
     "name": "stdout",
     "output_type": "stream",
     "text": [
      "{'R4': '456', 'R3': '789'}\n"
     ]
    }
   ],
   "source": [
    "dict = {\"R2\": \"123\" , \"R4\": \"456\" , \"R3\" : \"789\"}\n",
    "\n",
    "del dict[\"R2\"]\n",
    "print(dict)"
   ]
  },
  {
   "cell_type": "code",
   "execution_count": 115,
   "metadata": {},
   "outputs": [
    {
     "name": "stdout",
     "output_type": "stream",
     "text": [
      "{'R2': '111', 'R4': '456', 'R3': '789', 'S1': 'My Switch'}\n"
     ]
    }
   ],
   "source": [
    "dict = {\"R2\": \"123\" , \"R4\": \"456\" , \"R3\" : \"789\"}\n",
    "\n",
    "dict[\"R2\"] = \"111\"\n",
    "dict[\"S1\"] = \"My Switch\"\n",
    "\n",
    "print(dict)"
   ]
  },
  {
   "cell_type": "code",
   "execution_count": 117,
   "metadata": {},
   "outputs": [
    {
     "name": "stdout",
     "output_type": "stream",
     "text": [
      "R2 -> 123\n",
      "R3 -> 789\n",
      "R4 -> 456\n"
     ]
    }
   ],
   "source": [
    "dict = {\"R2\": \"123\" , \"R4\": \"456\" , \"R3\" : \"789\"}\n",
    "\n",
    "for english, french in sorted(dict.items()):\n",
    "    print(english,\"->\",french)"
   ]
  },
  {
   "cell_type": "code",
   "execution_count": 120,
   "metadata": {},
   "outputs": [
    {
     "name": "stdout",
     "output_type": "stream",
     "text": [
      "['111', '123', '456']\n"
     ]
    }
   ],
   "source": [
    "dict = {\"R2\": \"123\" , \"R4\": \"456\" , \"R3\" : \"111\"}\n",
    "\n",
    "dict = sorted(dict.values())\n",
    "print(dict)"
   ]
  },
  {
   "cell_type": "code",
   "execution_count": 121,
   "metadata": {},
   "outputs": [
    {
     "name": "stdout",
     "output_type": "stream",
     "text": [
      "123\n",
      "456\n"
     ]
    }
   ],
   "source": [
    "dict = {\"R2\": \"123\" , \"R4\": \"456\" , \"S3\" : \"111\"}\n",
    "words = [\"R2\", \"R4\", \"S3\"]\n",
    "\n",
    "for device in(dict.keys()):\n",
    "    if device.startswith(\"R\"):\n",
    "        print(dict[device])"
   ]
  },
  {
   "cell_type": "code",
   "execution_count": 122,
   "metadata": {},
   "outputs": [
    {
     "name": "stdout",
     "output_type": "stream",
     "text": [
      "9\n"
     ]
    }
   ],
   "source": [
    "def fun (x,y,z):\n",
    "    return x + 2* y + 3*z\n",
    "\n",
    "print(fun(0,z=1,y=3))\n",
    "    "
   ]
  },
  {
   "cell_type": "code",
   "execution_count": 131,
   "metadata": {},
   "outputs": [
    {
     "name": "stdout",
     "output_type": "stream",
     "text": [
      "22None\n",
      "1\n"
     ]
    }
   ],
   "source": [
    "def any():\n",
    "    print(var + 1, end=\"\")\n",
    "\n",
    "var = 1\n",
    "any()\n",
    "print(var)"
   ]
  },
  {
   "cell_type": "code",
   "execution_count": 138,
   "metadata": {},
   "outputs": [
    {
     "name": "stdout",
     "output_type": "stream",
     "text": [
      "{'a': ('a',), 'b': ('b',), 'c': ('c',)}\n",
      "('a',)\n",
      "('b',)\n",
      "('c',)\n"
     ]
    }
   ],
   "source": [
    "dictionary = {}\n",
    "mylist = [\"a\", \"b\", \"c\", \"d\"]\n",
    "\n",
    "for i in range(len(mylist)-1):\n",
    "    dictionary[mylist[i]] = (mylist[i],)\n",
    "\n",
    "print(dictionary)\n",
    "for i in sorted(dictionary.keys()):\n",
    "    k = dictionary[i]\n",
    "    print(k)\n"
   ]
  },
  {
   "cell_type": "code",
   "execution_count": 151,
   "metadata": {},
   "outputs": [
    {
     "name": "stdout",
     "output_type": "stream",
     "text": [
      "['a', 'c', 'd']\n"
     ]
    }
   ],
   "source": [
    "mylist = [\"a\",\"b\",\"c\",\"d\"]\n",
    "\n",
    "del(mylist[1])\n",
    "\n",
    "print(mylist)"
   ]
  },
  {
   "cell_type": "code",
   "execution_count": 153,
   "metadata": {},
   "outputs": [
    {
     "data": {
      "text/plain": [
       "2"
      ]
     },
     "execution_count": 153,
     "metadata": {},
     "output_type": "execute_result"
    }
   ],
   "source": [
    "def list(x=1):\n",
    "    return x\n",
    "\n",
    "list(2)"
   ]
  },
  {
   "cell_type": "code",
   "execution_count": 156,
   "metadata": {},
   "outputs": [
    {
     "name": "stdout",
     "output_type": "stream",
     "text": [
      "16\n"
     ]
    }
   ],
   "source": [
    "def fun1(a):\n",
    "    return a**a\n",
    "\n",
    "def fun2(a):\n",
    "    return fun1(a)*fun1(a)\n",
    "\n",
    "print(fun2(2))\n"
   ]
  },
  {
   "cell_type": "code",
   "execution_count": 166,
   "metadata": {},
   "outputs": [
    {
     "ename": "AttributeError",
     "evalue": "'tuple' object has no attribute 'append'",
     "output_type": "error",
     "traceback": [
      "\u001b[1;31m---------------------------------------------------------------------------\u001b[0m",
      "\u001b[1;31mAttributeError\u001b[0m                            Traceback (most recent call last)",
      "\u001b[1;32m<ipython-input-166-81273168c50e>\u001b[0m in \u001b[0;36m<module>\u001b[1;34m\u001b[0m\n\u001b[0;32m      1\u001b[0m \u001b[0mtuple\u001b[0m \u001b[1;33m=\u001b[0m \u001b[1;33m(\u001b[0m\u001b[1;36m1\u001b[0m\u001b[1;33m,\u001b[0m \u001b[1;36m2\u001b[0m\u001b[1;33m,\u001b[0m \u001b[1;36m3\u001b[0m\u001b[1;33m,\u001b[0m \u001b[1;36m4\u001b[0m\u001b[1;33m)\u001b[0m\u001b[1;33m\u001b[0m\u001b[1;33m\u001b[0m\u001b[0m\n\u001b[1;32m----> 2\u001b[1;33m \u001b[0mtuple\u001b[0m \u001b[1;33m=\u001b[0m \u001b[0mtuple\u001b[0m\u001b[1;33m.\u001b[0m\u001b[0mappend\u001b[0m\u001b[1;33m(\u001b[0m\u001b[1;34m\"0\"\u001b[0m\u001b[1;33m)\u001b[0m\u001b[1;33m\u001b[0m\u001b[1;33m\u001b[0m\u001b[0m\n\u001b[0m",
      "\u001b[1;31mAttributeError\u001b[0m: 'tuple' object has no attribute 'append'"
     ]
    }
   ],
   "source": [
    "tuple = (1, 2, 3, 4)\n",
    "tuple = tuple.append(\"0\")"
   ]
  },
  {
   "cell_type": "code",
   "execution_count": null,
   "metadata": {},
   "outputs": [],
   "source": []
  }
 ],
 "metadata": {
  "kernelspec": {
   "display_name": "Python 3",
   "language": "python",
   "name": "python3"
  },
  "language_info": {
   "codemirror_mode": {
    "name": "ipython",
    "version": 3
   },
   "file_extension": ".py",
   "mimetype": "text/x-python",
   "name": "python",
   "nbconvert_exporter": "python",
   "pygments_lexer": "ipython3",
   "version": "3.8.5"
  }
 },
 "nbformat": 4,
 "nbformat_minor": 4
}
